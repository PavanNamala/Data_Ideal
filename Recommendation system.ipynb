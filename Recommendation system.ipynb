{
 "cells": [
  {
   "cell_type": "markdown",
   "id": "c118484c-6a5c-4aef-a196-2a6c35eb61b4",
   "metadata": {},
   "source": [
    "<div class=\"alert alert-block alert-info\" align=center><b></b>\n",
    "\n",
    "# Recommendation System"
   ]
  },
  {
   "cell_type": "code",
   "execution_count": 15,
   "id": "0ab15461-16c1-45cd-b708-aa42e5bd3d26",
   "metadata": {},
   "outputs": [
    {
     "data": {
      "image/jpeg": "[encoded data removed]",
      "text/plain": [
       "<IPython.core.display.Image object>"
      ]
     },
     "execution_count": 15,
     "metadata": {},
     "output_type": "execute_result"
    }
   ],
   "source": [
    "from IPython.display import Image\n",
    "Image(filename='images.jpg')"
   ]
  },
  {
   "cell_type": "markdown",
   "id": "705c0d4f-3254-4c68-ad81-2ddcc383c5ce",
   "metadata": {},
   "source": [
    "<div class=\"alert alert-block alert-info\" align=center><b></b>\n",
    "\n",
    "# Problem Statement"
   ]
  },
  {
   "cell_type": "markdown",
   "id": "c5aa031a-3a91-41c4-b59f-3b1365fd42ab",
   "metadata": {},
   "source": [
    "Online reviews are important because they have become a reference point for buyers across the globe and because so many people trust them when making purchase decisions.\n",
    "\n",
    "\n",
    "Reviews are also important for Search Engine Optimization (SEO). Having positive reviews is also another way through which you can improve a website’s Search Engine visibility. The more that people talk about a brand online, the greater its visibility to Search Engines, such as Google, Yahoo and Bing.\n",
    "\n"
   ]
  },
  {
   "cell_type": "markdown",
   "id": "c256ba29-c239-49d6-9d12-baf9eb3652e7",
   "metadata": {},
   "source": [
    "<div class=\"alert alert-block alert-info\" align=center><b></b>\n",
    "\n",
    "# LET'S START"
   ]
  },
  {
   "cell_type": "markdown",
   "id": "5a359d20-c5cc-41ea-b6cb-577ac037613d",
   "metadata": {},
   "source": [
    "<div class=\"alert alert-block alert-info\" align=center><b></b>\n",
    "    \n",
    "    My Name is PAVAN KALYAN and  I will take you the journey of Recommendation system"
   ]
  },
  {
   "cell_type": "markdown",
   "id": "6697fded",
   "metadata": {
    "papermill": {
     "duration": 0.014865,
     "end_time": "2023-08-14T20:13:18.286443",
     "exception": false,
     "start_time": "2023-08-14T20:13:18.271578",
     "status": "completed"
    },
    "tags": []
   },
   "source": [
    "## Importing libraries"
   ]
  },
  {
   "cell_type": "code",
   "execution_count": 17,
   "id": "08ac6b4e",
   "metadata": {
    "papermill": {
     "duration": 2.681194,
     "end_time": "2023-08-14T20:13:20.981003",
     "exception": false,
     "start_time": "2023-08-14T20:13:18.299809",
     "status": "completed"
    },
    "tags": []
   },
   "outputs": [],
   "source": [
    "import os\n",
    "import gc\n",
    "import shutil\n",
    "from pathlib import Path\n",
    "import warnings\n",
    "\n",
    "import pandas as pd\n",
    "import numpy as np\n",
    "import matplotlib.pyplot as plt\n",
    "import seaborn as sns\n",
    "import plotly.express as px\n",
    "\n",
    "from sklearn.metrics.pairwise import cosine_similarity\n",
    "\n",
    "%matplotlib inline\n",
    "warnings.filterwarnings('ignore')"
   ]
  },
  {
   "cell_type": "markdown",
   "id": "24d7e727",
   "metadata": {
    "papermill": {
     "duration": 0.012714,
     "end_time": "2023-08-14T20:13:21.006972",
     "exception": false,
     "start_time": "2023-08-14T20:13:20.994258",
     "status": "completed"
    },
    "tags": []
   },
   "source": [
    "## Importing datasets"
   ]
  },
  {
   "cell_type": "code",
   "execution_count": 18,
   "id": "7538f5c4",
   "metadata": {
    "papermill": {
     "duration": 0.110332,
     "end_time": "2023-08-14T20:13:21.130418",
     "exception": false,
     "start_time": "2023-08-14T20:13:21.020086",
     "status": "completed"
    },
    "tags": []
   },
   "outputs": [
    {
     "data": {
      "text/html": [
       "<div>\n",
       "<style scoped>\n",
       "    .dataframe tbody tr th:only-of-type {\n",
       "        vertical-align: middle;\n",
       "    }\n",
       "\n",
       "    .dataframe tbody tr th {\n",
       "        vertical-align: top;\n",
       "    }\n",
       "\n",
       "    .dataframe thead th {\n",
       "        text-align: right;\n",
       "    }\n",
       "</style>\n",
       "<table border=\"1\" class=\"dataframe\">\n",
       "  <thead>\n",
       "    <tr style=\"text-align: right;\">\n",
       "      <th></th>\n",
       "      <th>name</th>\n",
       "      <th>ratings</th>\n",
       "      <th>price</th>\n",
       "      <th>imgURL</th>\n",
       "      <th>corpus</th>\n",
       "    </tr>\n",
       "  </thead>\n",
       "  <tbody>\n",
       "    <tr>\n",
       "      <th>0</th>\n",
       "      <td>REDMI Note 12 Pro 5G (Onyx Black, 128 GB)</td>\n",
       "      <td>4.2</td>\n",
       "      <td>23999</td>\n",
       "      <td>https://rukminim2.flixcart.com/image/312/312/x...</td>\n",
       "      <td>Storage128 GBRAM6  SystemAndroid 12Processor T...</td>\n",
       "    </tr>\n",
       "    <tr>\n",
       "      <th>1</th>\n",
       "      <td>OPPO F11 Pro (Aurora Green, 128 GB)</td>\n",
       "      <td>4.5</td>\n",
       "      <td>₹20,999</td>\n",
       "      <td>https://rukminim2.flixcart.com/image/312/312/k...</td>\n",
       "      <td>Storage128 GBRAM6 GBExpandable Storage256GB  S...</td>\n",
       "    </tr>\n",
       "    <tr>\n",
       "      <th>2</th>\n",
       "      <td>REDMI Note 11 (Starburst White, 64 GB)</td>\n",
       "      <td>4.2</td>\n",
       "      <td>13149</td>\n",
       "      <td>https://rukminim2.flixcart.com/image/312/312/x...</td>\n",
       "      <td>Storage64 GBRAM4  SystemAndroid 11Processor Sp...</td>\n",
       "    </tr>\n",
       "    <tr>\n",
       "      <th>3</th>\n",
       "      <td>OnePlus Nord CE 5G (Blue Void, 256 GB)</td>\n",
       "      <td>4.1</td>\n",
       "      <td>21999</td>\n",
       "      <td>https://rukminim2.flixcart.com/image/312/312/x...</td>\n",
       "      <td>Storage256 GBRAM12  SystemAndroid Q 11Processo...</td>\n",
       "    </tr>\n",
       "    <tr>\n",
       "      <th>4</th>\n",
       "      <td>APPLE iPhone 13 mini (Blue, 128 GB)</td>\n",
       "      <td>4.6</td>\n",
       "      <td>3537</td>\n",
       "      <td>https://rukminim2.flixcart.com/image/312/312/k...</td>\n",
       "      <td>Storage128  SystemiOS 15Processor TypeA15 Bion...</td>\n",
       "    </tr>\n",
       "  </tbody>\n",
       "</table>\n",
       "</div>"
      ],
      "text/plain": [
       "                                        name  ratings    price  \\\n",
       "0  REDMI Note 12 Pro 5G (Onyx Black, 128 GB)      4.2    23999   \n",
       "1        OPPO F11 Pro (Aurora Green, 128 GB)      4.5  ₹20,999   \n",
       "2     REDMI Note 11 (Starburst White, 64 GB)      4.2    13149   \n",
       "3     OnePlus Nord CE 5G (Blue Void, 256 GB)      4.1    21999   \n",
       "4        APPLE iPhone 13 mini (Blue, 128 GB)      4.6     3537   \n",
       "\n",
       "                                              imgURL  \\\n",
       "0  https://rukminim2.flixcart.com/image/312/312/x...   \n",
       "1  https://rukminim2.flixcart.com/image/312/312/k...   \n",
       "2  https://rukminim2.flixcart.com/image/312/312/x...   \n",
       "3  https://rukminim2.flixcart.com/image/312/312/x...   \n",
       "4  https://rukminim2.flixcart.com/image/312/312/k...   \n",
       "\n",
       "                                              corpus  \n",
       "0  Storage128 GBRAM6  SystemAndroid 12Processor T...  \n",
       "1  Storage128 GBRAM6 GBExpandable Storage256GB  S...  \n",
       "2  Storage64 GBRAM4  SystemAndroid 11Processor Sp...  \n",
       "3  Storage256 GBRAM12  SystemAndroid Q 11Processo...  \n",
       "4  Storage128  SystemiOS 15Processor TypeA15 Bion...  "
      ]
     },
     "execution_count": 18,
     "metadata": {},
     "output_type": "execute_result"
    }
   ],
   "source": [
    "data = pd.read_csv('mobile_recommendation_system_dataset.csv')\n",
    "data.head()"
   ]
  },
  {
   "cell_type": "markdown",
   "id": "3bc68f3e",
   "metadata": {
    "papermill": {
     "duration": 0.013128,
     "end_time": "2023-08-14T20:13:21.157189",
     "exception": false,
     "start_time": "2023-08-14T20:13:21.144061",
     "status": "completed"
    },
    "tags": []
   },
   "source": [
    "# EDA - Exploratory Data Analysis"
   ]
  },
  {
   "cell_type": "code",
   "execution_count": 19,
   "id": "356bacc4",
   "metadata": {
    "papermill": {
     "duration": 0.050624,
     "end_time": "2023-08-14T20:13:21.221370",
     "exception": false,
     "start_time": "2023-08-14T20:13:21.170746",
     "status": "completed"
    },
    "tags": []
   },
   "outputs": [
    {
     "name": "stdout",
     "output_type": "stream",
     "text": [
      "<class 'pandas.core.frame.DataFrame'>\n",
      "RangeIndex: 2546 entries, 0 to 2545\n",
      "Data columns (total 5 columns):\n",
      " #   Column   Non-Null Count  Dtype  \n",
      "---  ------   --------------  -----  \n",
      " 0   name     2546 non-null   object \n",
      " 1   ratings  2546 non-null   float64\n",
      " 2   price    2546 non-null   object \n",
      " 3   imgURL   2546 non-null   object \n",
      " 4   corpus   2534 non-null   object \n",
      "dtypes: float64(1), object(4)\n",
      "memory usage: 99.6+ KB\n"
     ]
    }
   ],
   "source": [
    "data.info()"
   ]
  },
  {
   "cell_type": "code",
   "execution_count": 20,
   "id": "aff7ac7a",
   "metadata": {
    "papermill": {
     "duration": 0.033369,
     "end_time": "2023-08-14T20:13:21.269724",
     "exception": false,
     "start_time": "2023-08-14T20:13:21.236355",
     "status": "completed"
    },
    "tags": []
   },
   "outputs": [
    {
     "data": {
      "text/plain": [
       "name        0\n",
       "ratings     0\n",
       "price       0\n",
       "imgURL      0\n",
       "corpus     12\n",
       "dtype: int64"
      ]
     },
     "execution_count": 20,
     "metadata": {},
     "output_type": "execute_result"
    }
   ],
   "source": [
    "data.isnull().sum()"
   ]
  },
  {
   "cell_type": "code",
   "execution_count": 21,
   "id": "0de02b8a",
   "metadata": {
    "papermill": {
     "duration": 0.042299,
     "end_time": "2023-08-14T20:13:21.327385",
     "exception": false,
     "start_time": "2023-08-14T20:13:21.285086",
     "status": "completed"
    },
    "tags": []
   },
   "outputs": [
    {
     "data": {
      "text/html": [
       "<div>\n",
       "<style scoped>\n",
       "    .dataframe tbody tr th:only-of-type {\n",
       "        vertical-align: middle;\n",
       "    }\n",
       "\n",
       "    .dataframe tbody tr th {\n",
       "        vertical-align: top;\n",
       "    }\n",
       "\n",
       "    .dataframe thead th {\n",
       "        text-align: right;\n",
       "    }\n",
       "</style>\n",
       "<table border=\"1\" class=\"dataframe\">\n",
       "  <thead>\n",
       "    <tr style=\"text-align: right;\">\n",
       "      <th></th>\n",
       "      <th>name</th>\n",
       "      <th>ratings</th>\n",
       "      <th>price</th>\n",
       "      <th>imgURL</th>\n",
       "      <th>corpus</th>\n",
       "    </tr>\n",
       "  </thead>\n",
       "  <tbody>\n",
       "    <tr>\n",
       "      <th>17</th>\n",
       "      <td>A10E</td>\n",
       "      <td>4.1</td>\n",
       "      <td>1299</td>\n",
       "      <td>https://rukminim2.flixcart.com/image/312/312/x...</td>\n",
       "      <td>NaN</td>\n",
       "    </tr>\n",
       "    <tr>\n",
       "      <th>169</th>\n",
       "      <td>SAMSUNG GT-E1215ZKAINS</td>\n",
       "      <td>4.3</td>\n",
       "      <td>1150</td>\n",
       "      <td>https://rukminim2.flixcart.com/image/312/312/k...</td>\n",
       "      <td>NaN</td>\n",
       "    </tr>\n",
       "    <tr>\n",
       "      <th>525</th>\n",
       "      <td>MOTOROLA Edge 40 (Nebula Green, 256 GB)</td>\n",
       "      <td>4.2</td>\n",
       "      <td>29999</td>\n",
       "      <td>https://rukminim2.flixcart.com/image/312/312/x...</td>\n",
       "      <td>NaN</td>\n",
       "    </tr>\n",
       "    <tr>\n",
       "      <th>1280</th>\n",
       "      <td>SAMSUNG GT-E1215</td>\n",
       "      <td>4.3</td>\n",
       "      <td>1499</td>\n",
       "      <td>https://rukminim2.flixcart.com/image/312/312/k...</td>\n",
       "      <td>NaN</td>\n",
       "    </tr>\n",
       "    <tr>\n",
       "      <th>1515</th>\n",
       "      <td>SAMSUNG GT 1200 R/I/M</td>\n",
       "      <td>4.4</td>\n",
       "      <td>1499</td>\n",
       "      <td>https://rukminim2.flixcart.com/image/312/312/t...</td>\n",
       "      <td>NaN</td>\n",
       "    </tr>\n",
       "    <tr>\n",
       "      <th>1619</th>\n",
       "      <td>SAMSUNG GT-E1215ZDAINS</td>\n",
       "      <td>4.2</td>\n",
       "      <td>1299</td>\n",
       "      <td>https://rukminim2.flixcart.com/image/312/312/j...</td>\n",
       "      <td>NaN</td>\n",
       "    </tr>\n",
       "    <tr>\n",
       "      <th>1762</th>\n",
       "      <td>a 10e</td>\n",
       "      <td>4.4</td>\n",
       "      <td>1319</td>\n",
       "      <td>https://rukminim2.flixcart.com/image/312/312/x...</td>\n",
       "      <td>NaN</td>\n",
       "    </tr>\n",
       "    <tr>\n",
       "      <th>1857</th>\n",
       "      <td>SAMSUNG Galaxy F41 (Fusion Black, 64 GB)</td>\n",
       "      <td>4.0</td>\n",
       "      <td>15999</td>\n",
       "      <td>https://rukminim2.flixcart.com/image/312/312/k...</td>\n",
       "      <td>NaN</td>\n",
       "    </tr>\n",
       "    <tr>\n",
       "      <th>1875</th>\n",
       "      <td>SAMSUNG Galaxy M13 (Aqua Green, 128 GB)</td>\n",
       "      <td>4.3</td>\n",
       "      <td>13999</td>\n",
       "      <td>https://rukminim2.flixcart.com/image/312/312/x...</td>\n",
       "      <td>NaN</td>\n",
       "    </tr>\n",
       "    <tr>\n",
       "      <th>1962</th>\n",
       "      <td>MOTOROLA e13 (Creamy White, 64 GB)</td>\n",
       "      <td>3.9</td>\n",
       "      <td>6499</td>\n",
       "      <td>https://rukminim2.flixcart.com/image/312/312/x...</td>\n",
       "      <td>NaN</td>\n",
       "    </tr>\n",
       "    <tr>\n",
       "      <th>2106</th>\n",
       "      <td>Motorola a10</td>\n",
       "      <td>4.2</td>\n",
       "      <td>1499</td>\n",
       "      <td>https://rukminim2.flixcart.com/image/312/312/k...</td>\n",
       "      <td>NaN</td>\n",
       "    </tr>\n",
       "    <tr>\n",
       "      <th>2543</th>\n",
       "      <td>Motorola a50</td>\n",
       "      <td>4.1</td>\n",
       "      <td>1549</td>\n",
       "      <td>https://rukminim2.flixcart.com/image/312/312/k...</td>\n",
       "      <td>NaN</td>\n",
       "    </tr>\n",
       "  </tbody>\n",
       "</table>\n",
       "</div>"
      ],
      "text/plain": [
       "                                          name  ratings  price  \\\n",
       "17                                        A10E      4.1   1299   \n",
       "169                     SAMSUNG GT-E1215ZKAINS      4.3   1150   \n",
       "525    MOTOROLA Edge 40 (Nebula Green, 256 GB)      4.2  29999   \n",
       "1280                          SAMSUNG GT-E1215      4.3   1499   \n",
       "1515                     SAMSUNG GT 1200 R/I/M      4.4   1499   \n",
       "1619                    SAMSUNG GT-E1215ZDAINS      4.2   1299   \n",
       "1762                                     a 10e      4.4   1319   \n",
       "1857  SAMSUNG Galaxy F41 (Fusion Black, 64 GB)      4.0  15999   \n",
       "1875   SAMSUNG Galaxy M13 (Aqua Green, 128 GB)      4.3  13999   \n",
       "1962        MOTOROLA e13 (Creamy White, 64 GB)      3.9   6499   \n",
       "2106                              Motorola a10      4.2   1499   \n",
       "2543                              Motorola a50      4.1   1549   \n",
       "\n",
       "                                                 imgURL corpus  \n",
       "17    https://rukminim2.flixcart.com/image/312/312/x...    NaN  \n",
       "169   https://rukminim2.flixcart.com/image/312/312/k...    NaN  \n",
       "525   https://rukminim2.flixcart.com/image/312/312/x...    NaN  \n",
       "1280  https://rukminim2.flixcart.com/image/312/312/k...    NaN  \n",
       "1515  https://rukminim2.flixcart.com/image/312/312/t...    NaN  \n",
       "1619  https://rukminim2.flixcart.com/image/312/312/j...    NaN  \n",
       "1762  https://rukminim2.flixcart.com/image/312/312/x...    NaN  \n",
       "1857  https://rukminim2.flixcart.com/image/312/312/k...    NaN  \n",
       "1875  https://rukminim2.flixcart.com/image/312/312/x...    NaN  \n",
       "1962  https://rukminim2.flixcart.com/image/312/312/x...    NaN  \n",
       "2106  https://rukminim2.flixcart.com/image/312/312/k...    NaN  \n",
       "2543  https://rukminim2.flixcart.com/image/312/312/k...    NaN  "
      ]
     },
     "execution_count": 21,
     "metadata": {},
     "output_type": "execute_result"
    }
   ],
   "source": [
    "data.loc[data.isnull().any(axis = 1)]"
   ]
  },
  {
   "cell_type": "markdown",
   "id": "dc889cf9",
   "metadata": {
    "papermill": {
     "duration": 0.014054,
     "end_time": "2023-08-14T20:13:21.356136",
     "exception": false,
     "start_time": "2023-08-14T20:13:21.342082",
     "status": "completed"
    },
    "tags": []
   },
   "source": [
    "**Insights**:\n",
    "\n",
    "We can probably just remove these rows as it provides almost no value to us."
   ]
  },
  {
   "cell_type": "code",
   "execution_count": 22,
   "id": "26391822",
   "metadata": {
    "papermill": {
     "duration": 0.038136,
     "end_time": "2023-08-14T20:13:21.410843",
     "exception": false,
     "start_time": "2023-08-14T20:13:21.372707",
     "status": "completed"
    },
    "tags": []
   },
   "outputs": [
    {
     "data": {
      "text/plain": [
       "name       0\n",
       "ratings    0\n",
       "price      0\n",
       "imgURL     0\n",
       "corpus     0\n",
       "dtype: int64"
      ]
     },
     "execution_count": 22,
     "metadata": {},
     "output_type": "execute_result"
    }
   ],
   "source": [
    "data.dropna(inplace = True)\n",
    "data.isnull().sum()"
   ]
  },
  {
   "cell_type": "code",
   "execution_count": 23,
   "id": "81fce36e",
   "metadata": {
    "papermill": {
     "duration": 0.025825,
     "end_time": "2023-08-14T20:13:21.451516",
     "exception": false,
     "start_time": "2023-08-14T20:13:21.425691",
     "status": "completed"
    },
    "tags": []
   },
   "outputs": [
    {
     "data": {
      "text/plain": [
       "(2534, 5)"
      ]
     },
     "execution_count": 23,
     "metadata": {},
     "output_type": "execute_result"
    }
   ],
   "source": [
    "# Current shape of dataset\n",
    "data.shape"
   ]
  },
  {
   "cell_type": "code",
   "execution_count": 24,
   "id": "fc1511e2",
   "metadata": {
    "papermill": {
     "duration": 0.044066,
     "end_time": "2023-08-14T20:13:21.510540",
     "exception": false,
     "start_time": "2023-08-14T20:13:21.466474",
     "status": "completed"
    },
    "tags": []
   },
   "outputs": [
    {
     "data": {
      "text/html": [
       "<div>\n",
       "<style scoped>\n",
       "    .dataframe tbody tr th:only-of-type {\n",
       "        vertical-align: middle;\n",
       "    }\n",
       "\n",
       "    .dataframe tbody tr th {\n",
       "        vertical-align: top;\n",
       "    }\n",
       "\n",
       "    .dataframe thead th {\n",
       "        text-align: right;\n",
       "    }\n",
       "</style>\n",
       "<table border=\"1\" class=\"dataframe\">\n",
       "  <thead>\n",
       "    <tr style=\"text-align: right;\">\n",
       "      <th></th>\n",
       "      <th>name</th>\n",
       "      <th>ratings</th>\n",
       "      <th>price</th>\n",
       "      <th>imgURL</th>\n",
       "      <th>corpus</th>\n",
       "    </tr>\n",
       "  </thead>\n",
       "  <tbody>\n",
       "    <tr>\n",
       "      <th>0</th>\n",
       "      <td>REDMI Note 12 Pro 5G (Onyx Black, 128 GB)</td>\n",
       "      <td>4.2</td>\n",
       "      <td>23999</td>\n",
       "      <td>https://rukminim2.flixcart.com/image/312/312/x...</td>\n",
       "      <td>Storage128 GBRAM6  SystemAndroid 12Processor T...</td>\n",
       "    </tr>\n",
       "    <tr>\n",
       "      <th>1</th>\n",
       "      <td>OPPO F11 Pro (Aurora Green, 128 GB)</td>\n",
       "      <td>4.5</td>\n",
       "      <td>₹20,999</td>\n",
       "      <td>https://rukminim2.flixcart.com/image/312/312/k...</td>\n",
       "      <td>Storage128 GBRAM6 GBExpandable Storage256GB  S...</td>\n",
       "    </tr>\n",
       "    <tr>\n",
       "      <th>2</th>\n",
       "      <td>REDMI Note 11 (Starburst White, 64 GB)</td>\n",
       "      <td>4.2</td>\n",
       "      <td>13149</td>\n",
       "      <td>https://rukminim2.flixcart.com/image/312/312/x...</td>\n",
       "      <td>Storage64 GBRAM4  SystemAndroid 11Processor Sp...</td>\n",
       "    </tr>\n",
       "    <tr>\n",
       "      <th>3</th>\n",
       "      <td>OnePlus Nord CE 5G (Blue Void, 256 GB)</td>\n",
       "      <td>4.1</td>\n",
       "      <td>21999</td>\n",
       "      <td>https://rukminim2.flixcart.com/image/312/312/x...</td>\n",
       "      <td>Storage256 GBRAM12  SystemAndroid Q 11Processo...</td>\n",
       "    </tr>\n",
       "    <tr>\n",
       "      <th>4</th>\n",
       "      <td>APPLE iPhone 13 mini (Blue, 128 GB)</td>\n",
       "      <td>4.6</td>\n",
       "      <td>3537</td>\n",
       "      <td>https://rukminim2.flixcart.com/image/312/312/k...</td>\n",
       "      <td>Storage128  SystemiOS 15Processor TypeA15 Bion...</td>\n",
       "    </tr>\n",
       "  </tbody>\n",
       "</table>\n",
       "</div>"
      ],
      "text/plain": [
       "                                        name  ratings    price  \\\n",
       "0  REDMI Note 12 Pro 5G (Onyx Black, 128 GB)      4.2    23999   \n",
       "1        OPPO F11 Pro (Aurora Green, 128 GB)      4.5  ₹20,999   \n",
       "2     REDMI Note 11 (Starburst White, 64 GB)      4.2    13149   \n",
       "3     OnePlus Nord CE 5G (Blue Void, 256 GB)      4.1    21999   \n",
       "4        APPLE iPhone 13 mini (Blue, 128 GB)      4.6     3537   \n",
       "\n",
       "                                              imgURL  \\\n",
       "0  https://rukminim2.flixcart.com/image/312/312/x...   \n",
       "1  https://rukminim2.flixcart.com/image/312/312/k...   \n",
       "2  https://rukminim2.flixcart.com/image/312/312/x...   \n",
       "3  https://rukminim2.flixcart.com/image/312/312/x...   \n",
       "4  https://rukminim2.flixcart.com/image/312/312/k...   \n",
       "\n",
       "                                              corpus  \n",
       "0  Storage128 GBRAM6  SystemAndroid 12Processor T...  \n",
       "1  Storage128 GBRAM6 GBExpandable Storage256GB  S...  \n",
       "2  Storage64 GBRAM4  SystemAndroid 11Processor Sp...  \n",
       "3  Storage256 GBRAM12  SystemAndroid Q 11Processo...  \n",
       "4  Storage128  SystemiOS 15Processor TypeA15 Bion...  "
      ]
     },
     "metadata": {},
     "output_type": "display_data"
    },
    {
     "data": {
      "text/html": [
       "<div>\n",
       "<style scoped>\n",
       "    .dataframe tbody tr th:only-of-type {\n",
       "        vertical-align: middle;\n",
       "    }\n",
       "\n",
       "    .dataframe tbody tr th {\n",
       "        vertical-align: top;\n",
       "    }\n",
       "\n",
       "    .dataframe thead th {\n",
       "        text-align: right;\n",
       "    }\n",
       "</style>\n",
       "<table border=\"1\" class=\"dataframe\">\n",
       "  <thead>\n",
       "    <tr style=\"text-align: right;\">\n",
       "      <th></th>\n",
       "      <th>name</th>\n",
       "      <th>ratings</th>\n",
       "      <th>price</th>\n",
       "      <th>imgURL</th>\n",
       "      <th>corpus</th>\n",
       "    </tr>\n",
       "  </thead>\n",
       "  <tbody>\n",
       "    <tr>\n",
       "      <th>2540</th>\n",
       "      <td>SAMSUNG Galaxy S20 FE 5G (Cloud Navy, 128 GB)</td>\n",
       "      <td>4.2</td>\n",
       "      <td>27440</td>\n",
       "      <td>https://rukminim2.flixcart.com/image/312/312/x...</td>\n",
       "      <td>Storage128 GBRAM8  SystemAndroid 10Processor S...</td>\n",
       "    </tr>\n",
       "    <tr>\n",
       "      <th>2541</th>\n",
       "      <td>REDMI Note 9 (Shadow Black, 64 GB)</td>\n",
       "      <td>4.3</td>\n",
       "      <td>11999</td>\n",
       "      <td>https://rukminim2.flixcart.com/image/312/312/k...</td>\n",
       "      <td>Storage64 GBRAM4 GBExpandable Storage512GB  Sy...</td>\n",
       "    </tr>\n",
       "    <tr>\n",
       "      <th>2542</th>\n",
       "      <td>OnePlus 9 5G (Astral Black, 128 GB)</td>\n",
       "      <td>3.9</td>\n",
       "      <td>30203</td>\n",
       "      <td>https://rukminim2.flixcart.com/image/312/312/x...</td>\n",
       "      <td>Storage128 GBRAM8  SystemAndroid 11Processor S...</td>\n",
       "    </tr>\n",
       "    <tr>\n",
       "      <th>2544</th>\n",
       "      <td>SAMSUNG Galaxy S22 Ultra 5G (Phantom Black, 25...</td>\n",
       "      <td>4.3</td>\n",
       "      <td>20463</td>\n",
       "      <td>https://rukminim2.flixcart.com/image/312/312/x...</td>\n",
       "      <td>Storage256 GBRAM12  SystemAndroid 12Processor ...</td>\n",
       "    </tr>\n",
       "    <tr>\n",
       "      <th>2545</th>\n",
       "      <td>vivo T2x 5G (Aurora Gold, 128 GB)</td>\n",
       "      <td>4.4</td>\n",
       "      <td>13999</td>\n",
       "      <td>https://rukminim2.flixcart.com/image/312/312/x...</td>\n",
       "      <td>Storage128 GBRAM6  SystemAndroid 13Processor T...</td>\n",
       "    </tr>\n",
       "  </tbody>\n",
       "</table>\n",
       "</div>"
      ],
      "text/plain": [
       "                                                   name  ratings  price  \\\n",
       "2540      SAMSUNG Galaxy S20 FE 5G (Cloud Navy, 128 GB)      4.2  27440   \n",
       "2541                 REDMI Note 9 (Shadow Black, 64 GB)      4.3  11999   \n",
       "2542                OnePlus 9 5G (Astral Black, 128 GB)      3.9  30203   \n",
       "2544  SAMSUNG Galaxy S22 Ultra 5G (Phantom Black, 25...      4.3  20463   \n",
       "2545                  vivo T2x 5G (Aurora Gold, 128 GB)      4.4  13999   \n",
       "\n",
       "                                                 imgURL  \\\n",
       "2540  https://rukminim2.flixcart.com/image/312/312/x...   \n",
       "2541  https://rukminim2.flixcart.com/image/312/312/k...   \n",
       "2542  https://rukminim2.flixcart.com/image/312/312/x...   \n",
       "2544  https://rukminim2.flixcart.com/image/312/312/x...   \n",
       "2545  https://rukminim2.flixcart.com/image/312/312/x...   \n",
       "\n",
       "                                                 corpus  \n",
       "2540  Storage128 GBRAM8  SystemAndroid 10Processor S...  \n",
       "2541  Storage64 GBRAM4 GBExpandable Storage512GB  Sy...  \n",
       "2542  Storage128 GBRAM8  SystemAndroid 11Processor S...  \n",
       "2544  Storage256 GBRAM12  SystemAndroid 12Processor ...  \n",
       "2545  Storage128 GBRAM6  SystemAndroid 13Processor T...  "
      ]
     },
     "metadata": {},
     "output_type": "display_data"
    }
   ],
   "source": [
    "# Let's review our dataset again and see what we can do with it\n",
    "display(data.head())\n",
    "display(data.tail())"
   ]
  },
  {
   "cell_type": "markdown",
   "id": "be267afe",
   "metadata": {
    "papermill": {
     "duration": 0.015081,
     "end_time": "2023-08-14T20:13:21.541316",
     "exception": false,
     "start_time": "2023-08-14T20:13:21.526235",
     "status": "completed"
    },
    "tags": []
   },
   "source": [
    "**Insights**:\n",
    "\n",
    "Of course the corpus provides lots of important data we can use to generate our data vectors which we can then use in our similarity match using cosine similarity, more on that later.\n",
    "\n",
    "But notice in the price category of the dataset, it is not standardised properly i.e there are currency symbols or commas in our data, we should fix it."
   ]
  },
  {
   "cell_type": "code",
   "execution_count": 25,
   "id": "0f9b58df",
   "metadata": {
    "papermill": {
     "duration": 0.029412,
     "end_time": "2023-08-14T20:13:21.586379",
     "exception": false,
     "start_time": "2023-08-14T20:13:21.556967",
     "status": "completed"
    },
    "tags": []
   },
   "outputs": [
    {
     "data": {
      "text/plain": [
       "0         23999\n",
       "1       ₹20,999\n",
       "2         13149\n",
       "3         21999\n",
       "4          3537\n",
       "         ...   \n",
       "2540      27440\n",
       "2541      11999\n",
       "2542      30203\n",
       "2544      20463\n",
       "2545      13999\n",
       "Name: price, Length: 2534, dtype: object"
      ]
     },
     "execution_count": 25,
     "metadata": {},
     "output_type": "execute_result"
    }
   ],
   "source": [
    "data['price']"
   ]
  },
  {
   "cell_type": "code",
   "execution_count": 26,
   "id": "a5ab4fb5",
   "metadata": {
    "papermill": {
     "duration": 0.048231,
     "end_time": "2023-08-14T20:13:21.651776",
     "exception": false,
     "start_time": "2023-08-14T20:13:21.603545",
     "status": "completed"
    },
    "tags": []
   },
   "outputs": [
    {
     "data": {
      "text/html": [
       "<div>\n",
       "<style scoped>\n",
       "    .dataframe tbody tr th:only-of-type {\n",
       "        vertical-align: middle;\n",
       "    }\n",
       "\n",
       "    .dataframe tbody tr th {\n",
       "        vertical-align: top;\n",
       "    }\n",
       "\n",
       "    .dataframe thead th {\n",
       "        text-align: right;\n",
       "    }\n",
       "</style>\n",
       "<table border=\"1\" class=\"dataframe\">\n",
       "  <thead>\n",
       "    <tr style=\"text-align: right;\">\n",
       "      <th></th>\n",
       "      <th>price</th>\n",
       "      <th>price_fixed</th>\n",
       "    </tr>\n",
       "  </thead>\n",
       "  <tbody>\n",
       "    <tr>\n",
       "      <th>0</th>\n",
       "      <td>23999</td>\n",
       "      <td>23999</td>\n",
       "    </tr>\n",
       "    <tr>\n",
       "      <th>1</th>\n",
       "      <td>₹20,999</td>\n",
       "      <td>20999</td>\n",
       "    </tr>\n",
       "    <tr>\n",
       "      <th>2</th>\n",
       "      <td>13149</td>\n",
       "      <td>13149</td>\n",
       "    </tr>\n",
       "    <tr>\n",
       "      <th>3</th>\n",
       "      <td>21999</td>\n",
       "      <td>21999</td>\n",
       "    </tr>\n",
       "    <tr>\n",
       "      <th>4</th>\n",
       "      <td>3537</td>\n",
       "      <td>3537</td>\n",
       "    </tr>\n",
       "    <tr>\n",
       "      <th>...</th>\n",
       "      <td>...</td>\n",
       "      <td>...</td>\n",
       "    </tr>\n",
       "    <tr>\n",
       "      <th>2540</th>\n",
       "      <td>27440</td>\n",
       "      <td>27440</td>\n",
       "    </tr>\n",
       "    <tr>\n",
       "      <th>2541</th>\n",
       "      <td>11999</td>\n",
       "      <td>11999</td>\n",
       "    </tr>\n",
       "    <tr>\n",
       "      <th>2542</th>\n",
       "      <td>30203</td>\n",
       "      <td>30203</td>\n",
       "    </tr>\n",
       "    <tr>\n",
       "      <th>2544</th>\n",
       "      <td>20463</td>\n",
       "      <td>20463</td>\n",
       "    </tr>\n",
       "    <tr>\n",
       "      <th>2545</th>\n",
       "      <td>13999</td>\n",
       "      <td>13999</td>\n",
       "    </tr>\n",
       "  </tbody>\n",
       "</table>\n",
       "<p>2534 rows × 2 columns</p>\n",
       "</div>"
      ],
      "text/plain": [
       "        price  price_fixed\n",
       "0       23999        23999\n",
       "1     ₹20,999        20999\n",
       "2       13149        13149\n",
       "3       21999        21999\n",
       "4        3537         3537\n",
       "...       ...          ...\n",
       "2540    27440        27440\n",
       "2541    11999        11999\n",
       "2542    30203        30203\n",
       "2544    20463        20463\n",
       "2545    13999        13999\n",
       "\n",
       "[2534 rows x 2 columns]"
      ]
     },
     "execution_count": 26,
     "metadata": {},
     "output_type": "execute_result"
    }
   ],
   "source": [
    "# Let's use RegEx\n",
    "data['price_fixed'] = data['price'].replace('[^\\d]', '', regex = True).astype(int)\n",
    "data[['price', 'price_fixed']]"
   ]
  },
  {
   "cell_type": "code",
   "execution_count": 27,
   "id": "dc077575",
   "metadata": {
    "papermill": {
     "duration": 0.02875,
     "end_time": "2023-08-14T20:13:21.698133",
     "exception": false,
     "start_time": "2023-08-14T20:13:21.669383",
     "status": "completed"
    },
    "tags": []
   },
   "outputs": [],
   "source": [
    "#Let's replace the old price with our new price data\n",
    "data['price'] = data['price_fixed']\n",
    "data.drop('price_fixed', axis = 1, inplace = True)"
   ]
  },
  {
   "cell_type": "code",
   "execution_count": 28,
   "id": "ec9ced43",
   "metadata": {
    "papermill": {
     "duration": 0.034148,
     "end_time": "2023-08-14T20:13:21.749121",
     "exception": false,
     "start_time": "2023-08-14T20:13:21.714973",
     "status": "completed"
    },
    "tags": []
   },
   "outputs": [
    {
     "data": {
      "text/html": [
       "<div>\n",
       "<style scoped>\n",
       "    .dataframe tbody tr th:only-of-type {\n",
       "        vertical-align: middle;\n",
       "    }\n",
       "\n",
       "    .dataframe tbody tr th {\n",
       "        vertical-align: top;\n",
       "    }\n",
       "\n",
       "    .dataframe thead th {\n",
       "        text-align: right;\n",
       "    }\n",
       "</style>\n",
       "<table border=\"1\" class=\"dataframe\">\n",
       "  <thead>\n",
       "    <tr style=\"text-align: right;\">\n",
       "      <th></th>\n",
       "      <th>name</th>\n",
       "      <th>ratings</th>\n",
       "      <th>price</th>\n",
       "      <th>imgURL</th>\n",
       "      <th>corpus</th>\n",
       "    </tr>\n",
       "  </thead>\n",
       "  <tbody>\n",
       "    <tr>\n",
       "      <th>0</th>\n",
       "      <td>REDMI Note 12 Pro 5G (Onyx Black, 128 GB)</td>\n",
       "      <td>4.2</td>\n",
       "      <td>23999</td>\n",
       "      <td>https://rukminim2.flixcart.com/image/312/312/x...</td>\n",
       "      <td>Storage128 GBRAM6  SystemAndroid 12Processor T...</td>\n",
       "    </tr>\n",
       "    <tr>\n",
       "      <th>1</th>\n",
       "      <td>OPPO F11 Pro (Aurora Green, 128 GB)</td>\n",
       "      <td>4.5</td>\n",
       "      <td>20999</td>\n",
       "      <td>https://rukminim2.flixcart.com/image/312/312/k...</td>\n",
       "      <td>Storage128 GBRAM6 GBExpandable Storage256GB  S...</td>\n",
       "    </tr>\n",
       "    <tr>\n",
       "      <th>2</th>\n",
       "      <td>REDMI Note 11 (Starburst White, 64 GB)</td>\n",
       "      <td>4.2</td>\n",
       "      <td>13149</td>\n",
       "      <td>https://rukminim2.flixcart.com/image/312/312/x...</td>\n",
       "      <td>Storage64 GBRAM4  SystemAndroid 11Processor Sp...</td>\n",
       "    </tr>\n",
       "    <tr>\n",
       "      <th>3</th>\n",
       "      <td>OnePlus Nord CE 5G (Blue Void, 256 GB)</td>\n",
       "      <td>4.1</td>\n",
       "      <td>21999</td>\n",
       "      <td>https://rukminim2.flixcart.com/image/312/312/x...</td>\n",
       "      <td>Storage256 GBRAM12  SystemAndroid Q 11Processo...</td>\n",
       "    </tr>\n",
       "    <tr>\n",
       "      <th>4</th>\n",
       "      <td>APPLE iPhone 13 mini (Blue, 128 GB)</td>\n",
       "      <td>4.6</td>\n",
       "      <td>3537</td>\n",
       "      <td>https://rukminim2.flixcart.com/image/312/312/k...</td>\n",
       "      <td>Storage128  SystemiOS 15Processor TypeA15 Bion...</td>\n",
       "    </tr>\n",
       "  </tbody>\n",
       "</table>\n",
       "</div>"
      ],
      "text/plain": [
       "                                        name  ratings  price  \\\n",
       "0  REDMI Note 12 Pro 5G (Onyx Black, 128 GB)      4.2  23999   \n",
       "1        OPPO F11 Pro (Aurora Green, 128 GB)      4.5  20999   \n",
       "2     REDMI Note 11 (Starburst White, 64 GB)      4.2  13149   \n",
       "3     OnePlus Nord CE 5G (Blue Void, 256 GB)      4.1  21999   \n",
       "4        APPLE iPhone 13 mini (Blue, 128 GB)      4.6   3537   \n",
       "\n",
       "                                              imgURL  \\\n",
       "0  https://rukminim2.flixcart.com/image/312/312/x...   \n",
       "1  https://rukminim2.flixcart.com/image/312/312/k...   \n",
       "2  https://rukminim2.flixcart.com/image/312/312/x...   \n",
       "3  https://rukminim2.flixcart.com/image/312/312/x...   \n",
       "4  https://rukminim2.flixcart.com/image/312/312/k...   \n",
       "\n",
       "                                              corpus  \n",
       "0  Storage128 GBRAM6  SystemAndroid 12Processor T...  \n",
       "1  Storage128 GBRAM6 GBExpandable Storage256GB  S...  \n",
       "2  Storage64 GBRAM4  SystemAndroid 11Processor Sp...  \n",
       "3  Storage256 GBRAM12  SystemAndroid Q 11Processo...  \n",
       "4  Storage128  SystemiOS 15Processor TypeA15 Bion...  "
      ]
     },
     "execution_count": 28,
     "metadata": {},
     "output_type": "execute_result"
    }
   ],
   "source": [
    "data.head()"
   ]
  },
  {
   "cell_type": "code",
   "execution_count": 29,
   "id": "93bbd914",
   "metadata": {
    "papermill": {
     "duration": 0.029487,
     "end_time": "2023-08-14T20:13:21.795824",
     "exception": false,
     "start_time": "2023-08-14T20:13:21.766337",
     "status": "completed"
    },
    "tags": []
   },
   "outputs": [
    {
     "data": {
      "text/plain": [
       "array(['Storage128 GBRAM6  SystemAndroid Q 11Processor Speed2.4 50MP 5G Capacity5000 Display Size16.76 cm (6.6 inch)Resolution2400 x 1080 pixel'],\n",
       "      dtype=object)"
      ]
     },
     "execution_count": 29,
     "metadata": {},
     "output_type": "execute_result"
    }
   ],
   "source": [
    "example = data['corpus'].sample(1)\n",
    "example.values"
   ]
  },
  {
   "cell_type": "markdown",
   "id": "90aee1fa",
   "metadata": {
    "papermill": {
     "duration": 0.015971,
     "end_time": "2023-08-14T20:13:21.828348",
     "exception": false,
     "start_time": "2023-08-14T20:13:21.812377",
     "status": "completed"
    },
    "tags": []
   },
   "source": [
    "# Cleaning process\n",
    "\n",
    "1. Extract important features from the corpus or name.\n",
    "2. Filling up NaN values manually by searching up the web."
   ]
  },
  {
   "cell_type": "code",
   "execution_count": 30,
   "id": "277a3fa5",
   "metadata": {
    "papermill": {
     "duration": 0.033159,
     "end_time": "2023-08-14T20:13:21.878390",
     "exception": false,
     "start_time": "2023-08-14T20:13:21.845231",
     "status": "completed"
    },
    "tags": []
   },
   "outputs": [],
   "source": [
    "import re\n",
    "\n",
    "def extract_brand(text):\n",
    "    return text.split()[0]\n",
    "\n",
    "def extract_ram(text):\n",
    "    match = re.search(r'RAM(\\d+)', text)\n",
    "    if match:\n",
    "        return int(match.group(1))\n",
    "    return None\n",
    "\n",
    "def extract_system(text):\n",
    "    match = re.search(r'System(.*?)Processor', text)\n",
    "    if match:\n",
    "        return match.group(1).strip()\n",
    "    return None\n",
    "\n",
    "def extract_processor(text):\n",
    "    match = re.search(r'Processor (.*?) ', text)\n",
    "    if match:\n",
    "        return match.group(1).strip()\n",
    "    return None\n",
    "\n",
    "def extract_storage(text):\n",
    "    match = re.search(r'Storage(\\d+)', text)\n",
    "    if match:\n",
    "        return int(match.group(1))\n",
    "    return None"
   ]
  },
  {
   "cell_type": "code",
   "execution_count": 31,
   "id": "b71a4057",
   "metadata": {
    "papermill": {
     "duration": 0.067627,
     "end_time": "2023-08-14T20:13:21.962152",
     "exception": false,
     "start_time": "2023-08-14T20:13:21.894525",
     "status": "completed"
    },
    "tags": []
   },
   "outputs": [],
   "source": [
    "data['Brand'] = data['name'].apply(extract_brand)\n",
    "data['RAM'] = data['corpus'].apply(extract_ram)\n",
    "data['System'] = data['corpus'].apply(extract_system)\n",
    "data['Processor'] = data['corpus'].apply(extract_processor)\n",
    "data['Storage'] = data['corpus'].apply(extract_storage)"
   ]
  },
  {
   "cell_type": "code",
   "execution_count": 32,
   "id": "17c68d75",
   "metadata": {
    "papermill": {
     "duration": 0.032787,
     "end_time": "2023-08-14T20:13:22.010597",
     "exception": false,
     "start_time": "2023-08-14T20:13:21.977810",
     "status": "completed"
    },
    "tags": []
   },
   "outputs": [
    {
     "data": {
      "text/plain": [
       "(array(['Android 12', 'Android Pie 9.0', 'Android 11', 'Android Q 11',\n",
       "        'iOS 15', 'iOS 9', 'Android 13', 'Android Pie 9',\n",
       "        'Android Nougat 7', 'Android 10', 'iOS 16', None,\n",
       "        'Android Q Android Q 12.5', 'Android Oreo 8.1',\n",
       "        'Android Marshmallow 6.0.1', 'Android Oreo 8.1.0',\n",
       "        'Android 13 (Go Edition)', 'Android Android 12', 'Android Q 10',\n",
       "        'iOS 14.2', 'Android Pie Android v9.0 (Pie)', 'Android Andriod 11',\n",
       "        'Android Android 10',\n",
       "        'Android HiOS 8.6 based on Android 12-Go Edition',\n",
       "        'Android Nougat 7.1', 'iOS 14', 'Android Android 13', 'iOS 12',\n",
       "        'Android 12 Go', 'iOS 7', 'Android Nougat 7.1.2',\n",
       "        'Android Oreo V11', 'Android ANdroid 13 OxygenOS',\n",
       "        'Android Android 13.0', 'Android Android v12.0',\n",
       "        'Android Android 11', 'Android Pie 10', 'Android Oreo 8.0', 'Q 10',\n",
       "        'Android Q ANDROID 10', 'Android Q 12', 'iOS 13',\n",
       "        'Android Android 11 Go', 'Android 10 (Go Edition)',\n",
       "        'Android Oxygen OxygenOS based on Android 13',\n",
       "        'Series 30 Feature phone', 'Android Lollipop 5.1', 'Android Q 111',\n",
       "        'iOS 8', 'Android Q Android 11',\n",
       "        'Android ?HiOS 12.0 based on Android 12',\n",
       "        'Android Android 11 (Go edition)', 'Android Android 12.0',\n",
       "        'Android Lollipop 5.0.2', 'Android MIUI 13, Android 12.0',\n",
       "        'Android Lollipop Color OS 3.0 based on Android 5.1',\n",
       "        'Android Nougat 7.1.1', 'Android KitKat 4.4.2',\n",
       "        'Android 11 (Go edition)', 'Android Android13', 'Android Q 10.0V',\n",
       "        'Android KitKat 1', 'Android OxygenOS based on Android 13',\n",
       "        'Android KitKat 4.4', 'Android Funtouch OS 12', '1',\n",
       "        'Android Q V11.0', 'Android Android Oxygen Android 12', 'iOS 11',\n",
       "        'Android Oreo 8', 'Android MIUI 14, Android 13.0',\n",
       "        'Android Oxygen 12', 'Android Pie Oxygen',\n",
       "        'Android Lollipop 5.1.1', 'Android Q V10', 'Android Android12',\n",
       "        'Android Q Android', 'Android Oxygen 11', 'Android 12.5',\n",
       "        'Android Q Android Q Android 11', 'Android Q Android 10',\n",
       "        'Android Q Funtouch OS 13 (Based on Android 13)',\n",
       "        'Android Marshmallow 6', 'Android Q Android 13.0',\n",
       "        'Android Q 10.0', 'Android Q ?Android 13.0',\n",
       "        'Android Q Android 12', 'Android Nougat 11',\n",
       "        'Android ANDROID V12.0', 'Android Q Android 11 (Go Edition)',\n",
       "        'Android Q ANDROID 12.0', 'iOS Q HiOS 8.6 based on Android 12',\n",
       "        'Android Jelly Bean 4.2', 'Android 12 (Go Edition)',\n",
       "        'Android Q 13', 'Android Oxygen 12.1',\n",
       "        'Android ColorOS 13.1 on top of Android 13',\n",
       "        'Android Q ColorOS 12.1. 1', 'Android Pie 9 Pie OxygenOS',\n",
       "        'Android Q Android 12, One UI Core 4.1', 'Android',\n",
       "        'Android Q 10.1', 'Android ANDROID 11 GO AUDITION', 'Series 30',\n",
       "        'Android Q Android 12, ColorOS 12.1',\n",
       "        'Android ?MIUI 13, Android 12.0', 'Android Oxygen Android 12',\n",
       "        'Android HiOS 12.0 based on Android 12', 'Android Oxygen 11.3',\n",
       "        'Android Q MIUI 13, Android 12.0', 'Android Q 11.1',\n",
       "        'Android Funtouch OS 11 (Based on Android 11)',\n",
       "        'Android Mediatek Helio P35', 'Android Q Android Q 10',\n",
       "        'Android Android v9.0 Pie', 'Android Pie Oxygen OS',\n",
       "        'Android Q Android 11::ColorOS 12.1', 'Tizen',\n",
       "        'Android 11 (Go Edition)', 'Android Android 13 OxygenOS',\n",
       "        'Android Pie android version 10',\n",
       "        'Android HiOS 12.0 based on Android 13', 'Android Jelly Bean 4.3',\n",
       "        'Android Q Android 11, ColorOS 12.1', 'Android Oreo 10',\n",
       "        'Android KitKat 4.4.4', 'Android MIUI 12, Android 11.0',\n",
       "        'iOS Q ?HiOS 8.6 based on Android 12'], dtype=object),\n",
       " array(['TypeMediatek', 'TypeMediaTek', 'Speed2.4', 'TypeQualcomm',\n",
       "        'TypeA15', 'TypeA9', None, 'Speed2', 'TypeMTK', 'Speed3.19',\n",
       "        'TypeDimensity', 'TypeUnisoc', 'Speed2.3', 'TypeA12', 'TypeA16',\n",
       "        'Speed0.1', 'TypeExynos', 'TypeHelio', 'Speed2.84',\n",
       "        'TypeMT6763TProcessor', 'Speed1.8', 'TypeA14', 'Speed2.2',\n",
       "        'TypeA13', 'Speed2.9', 'TypeA6', 'Speed3.05', 'TypeApple',\n",
       "        'TypeSnapdragon', 'TypeQualcomm®', 'TypeA11', 'Speed2.99',\n",
       "        'TypeA10', 'Speed3.2', 'Speed208', 'TypeMeditek', 'TypeA8',\n",
       "        'TypeSamsung', 'TypeG37Processor', 'Speed1.6', 'TypeOcta',\n",
       "        'Type2nd-gen', 'TypeT612Processor', 'Typequalcomm',\n",
       "        'TypeOcta-coreProcessor', 'Speed1.2', 'TypeSpreadtrum',\n",
       "        'TypeUNISOC', 'TypeSEC', 'TypeMTK6739', 'TypeSDM710Processor',\n",
       "        'Speed3', 'TypeNA', 'Speed2.05', 'Speed2.42', 'Speed2.8',\n",
       "        'TypeUniSoc', 'Type1.6', 'Type2.0', 'Type7nm', 'Speed2.73',\n",
       "        'Speed90', 'TypeMediateckProcessor', 'Speed900', 'Speed120',\n",
       "        'Speed2.7', 'Speed1.3', 'Speed1600', 'TypeEOLProcessor',\n",
       "        'TypeNAProcessor', 'TypeTurbo', 'TypeSDM439Processor', 'Speed1.5',\n",
       "        'Type2?GHz,', 'TypeMT6762', 'Speed1.9'], dtype=object))"
      ]
     },
     "execution_count": 32,
     "metadata": {},
     "output_type": "execute_result"
    }
   ],
   "source": [
    "unique_systems = data['System'].unique()\n",
    "unique_processors = data['Processor'].unique()\n",
    "unique_systems, unique_processors"
   ]
  },
  {
   "cell_type": "code",
   "execution_count": 33,
   "id": "d75e0b20",
   "metadata": {
    "papermill": {
     "duration": 0.033227,
     "end_time": "2023-08-14T20:13:22.060019",
     "exception": false,
     "start_time": "2023-08-14T20:13:22.026792",
     "status": "completed"
    },
    "tags": []
   },
   "outputs": [],
   "source": [
    "def clean_processor(processor):\n",
    "    if pd.isnull(processor):\n",
    "        return None\n",
    "    if 'mediatek' in processor.lower():\n",
    "        return 'MediaTek'\n",
    "    if 'qualcomm' in processor.lower():\n",
    "        return 'Qualcomm'\n",
    "    if 'apple' in processor.lower():\n",
    "        return 'Apple'\n",
    "    return 'Other'\n",
    "\n",
    "data['Processor'] = data['Processor'].apply(clean_processor)"
   ]
  },
  {
   "cell_type": "code",
   "execution_count": 34,
   "id": "f6dfc58b",
   "metadata": {
    "papermill": {
     "duration": 0.029876,
     "end_time": "2023-08-14T20:13:22.109346",
     "exception": false,
     "start_time": "2023-08-14T20:13:22.079470",
     "status": "completed"
    },
    "tags": []
   },
   "outputs": [
    {
     "data": {
      "text/plain": [
       "array(['MediaTek', 'Other', 'Qualcomm', None, 'Apple'], dtype=object)"
      ]
     },
     "execution_count": 34,
     "metadata": {},
     "output_type": "execute_result"
    }
   ],
   "source": [
    "data['Processor'].unique()"
   ]
  },
  {
   "cell_type": "code",
   "execution_count": 35,
   "id": "09722b54",
   "metadata": {
    "papermill": {
     "duration": 0.034119,
     "end_time": "2023-08-14T20:13:22.161312",
     "exception": false,
     "start_time": "2023-08-14T20:13:22.127193",
     "status": "completed"
    },
    "tags": []
   },
   "outputs": [],
   "source": [
    "def clean_system(system):\n",
    "    if pd.isnull(system):\n",
    "        return None\n",
    "    if 'android' in system.lower():\n",
    "        return 'Android'\n",
    "    if 'ios' in system.lower():\n",
    "        return 'iOS'\n",
    "    if 'tizen' in system.lower():\n",
    "        return 'Tizen'\n",
    "    return system\n",
    "\n",
    "data['System'] = data['System'].apply(clean_system)"
   ]
  },
  {
   "cell_type": "code",
   "execution_count": 36,
   "id": "8fc3c90e",
   "metadata": {
    "papermill": {
     "duration": 0.029162,
     "end_time": "2023-08-14T20:13:22.206956",
     "exception": false,
     "start_time": "2023-08-14T20:13:22.177794",
     "status": "completed"
    },
    "tags": []
   },
   "outputs": [
    {
     "data": {
      "text/plain": [
       "array(['Android', 'iOS', None, 'Q 10', 'Series 30 Feature phone', '1',\n",
       "       'Series 30', 'Tizen'], dtype=object)"
      ]
     },
     "execution_count": 36,
     "metadata": {},
     "output_type": "execute_result"
    }
   ],
   "source": [
    "data['System'].unique()"
   ]
  },
  {
   "cell_type": "code",
   "execution_count": 37,
   "id": "33f64fe1",
   "metadata": {
    "papermill": {
     "duration": 0.046601,
     "end_time": "2023-08-14T20:13:22.270573",
     "exception": false,
     "start_time": "2023-08-14T20:13:22.223972",
     "status": "completed"
    },
    "tags": []
   },
   "outputs": [
    {
     "data": {
      "text/html": [
       "<div>\n",
       "<style scoped>\n",
       "    .dataframe tbody tr th:only-of-type {\n",
       "        vertical-align: middle;\n",
       "    }\n",
       "\n",
       "    .dataframe tbody tr th {\n",
       "        vertical-align: top;\n",
       "    }\n",
       "\n",
       "    .dataframe thead th {\n",
       "        text-align: right;\n",
       "    }\n",
       "</style>\n",
       "<table border=\"1\" class=\"dataframe\">\n",
       "  <thead>\n",
       "    <tr style=\"text-align: right;\">\n",
       "      <th></th>\n",
       "      <th>name</th>\n",
       "      <th>ratings</th>\n",
       "      <th>price</th>\n",
       "      <th>imgURL</th>\n",
       "      <th>corpus</th>\n",
       "      <th>Brand</th>\n",
       "      <th>RAM</th>\n",
       "      <th>System</th>\n",
       "      <th>Processor</th>\n",
       "      <th>Storage</th>\n",
       "    </tr>\n",
       "  </thead>\n",
       "  <tbody>\n",
       "    <tr>\n",
       "      <th>4</th>\n",
       "      <td>APPLE iPhone 13 mini (Blue, 128 GB)</td>\n",
       "      <td>4.6</td>\n",
       "      <td>3537</td>\n",
       "      <td>https://rukminim2.flixcart.com/image/312/312/k...</td>\n",
       "      <td>Storage128  SystemiOS 15Processor TypeA15 Bion...</td>\n",
       "      <td>APPLE</td>\n",
       "      <td>NaN</td>\n",
       "      <td>iOS</td>\n",
       "      <td>Other</td>\n",
       "      <td>128.0</td>\n",
       "    </tr>\n",
       "    <tr>\n",
       "      <th>5</th>\n",
       "      <td>APPLE iPhone 6s Plus (Gold, 64 GB)</td>\n",
       "      <td>4.5</td>\n",
       "      <td>5537</td>\n",
       "      <td>https://rukminim2.flixcart.com/image/312/312/m...</td>\n",
       "      <td>Storage64  SystemiOS 9Processor TypeA9 Chip 12...</td>\n",
       "      <td>APPLE</td>\n",
       "      <td>NaN</td>\n",
       "      <td>iOS</td>\n",
       "      <td>Other</td>\n",
       "      <td>64.0</td>\n",
       "    </tr>\n",
       "    <tr>\n",
       "      <th>16</th>\n",
       "      <td>APPLE iPhone 14 Plus ((PRODUCT)RED, 256 GB)</td>\n",
       "      <td>4.6</td>\n",
       "      <td>24463</td>\n",
       "      <td>https://rukminim2.flixcart.com/image/312/312/x...</td>\n",
       "      <td>Storage256  SystemiOS 16Processor TypeA15 Bion...</td>\n",
       "      <td>APPLE</td>\n",
       "      <td>NaN</td>\n",
       "      <td>iOS</td>\n",
       "      <td>Other</td>\n",
       "      <td>256.0</td>\n",
       "    </tr>\n",
       "    <tr>\n",
       "      <th>28</th>\n",
       "      <td>OPPO Reno10 5G (Ice Blue, 256 GB)</td>\n",
       "      <td>4.6</td>\n",
       "      <td>32537</td>\n",
       "      <td>https://rukminim2.flixcart.com/image/312/312/x...</td>\n",
       "      <td>Storage256 SystemAndroid 13Processor TypeDimen...</td>\n",
       "      <td>OPPO</td>\n",
       "      <td>NaN</td>\n",
       "      <td>Android</td>\n",
       "      <td>Other</td>\n",
       "      <td>256.0</td>\n",
       "    </tr>\n",
       "    <tr>\n",
       "      <th>40</th>\n",
       "      <td>APPLE iPhone XR ((PRODUCT)RED, 64 GB)</td>\n",
       "      <td>4.4</td>\n",
       "      <td>28537</td>\n",
       "      <td>https://rukminim2.flixcart.com/image/312/312/j...</td>\n",
       "      <td>Storage64  SystemiOS 14.2Processor TypeA12 Bio...</td>\n",
       "      <td>APPLE</td>\n",
       "      <td>NaN</td>\n",
       "      <td>iOS</td>\n",
       "      <td>Other</td>\n",
       "      <td>64.0</td>\n",
       "    </tr>\n",
       "    <tr>\n",
       "      <th>43</th>\n",
       "      <td>APPLE iPhone 14 Pro (Gold, 256 GB)</td>\n",
       "      <td>4.7</td>\n",
       "      <td>73</td>\n",
       "      <td>https://rukminim2.flixcart.com/image/312/312/x...</td>\n",
       "      <td>Storage256  SystemiOS 16Processor TypeA16 Bion...</td>\n",
       "      <td>APPLE</td>\n",
       "      <td>NaN</td>\n",
       "      <td>iOS</td>\n",
       "      <td>Other</td>\n",
       "      <td>256.0</td>\n",
       "    </tr>\n",
       "    <tr>\n",
       "      <th>54</th>\n",
       "      <td>APPLE iPhone 14 Plus (Midnight, 256 GB)</td>\n",
       "      <td>4.4</td>\n",
       "      <td>24463</td>\n",
       "      <td>https://rukminim2.flixcart.com/image/312/312/x...</td>\n",
       "      <td>Storage256  SystemiOS 16Processor TypeA15 Bion...</td>\n",
       "      <td>APPLE</td>\n",
       "      <td>NaN</td>\n",
       "      <td>iOS</td>\n",
       "      <td>Other</td>\n",
       "      <td>256.0</td>\n",
       "    </tr>\n",
       "    <tr>\n",
       "      <th>72</th>\n",
       "      <td>APPLE iPhone 6s (Silver, 64 GB)</td>\n",
       "      <td>4.5</td>\n",
       "      <td>15537</td>\n",
       "      <td>https://rukminim2.flixcart.com/image/312/312/m...</td>\n",
       "      <td>Storage64  SystemiOS 9Processor TypeA9 Chip 12...</td>\n",
       "      <td>APPLE</td>\n",
       "      <td>NaN</td>\n",
       "      <td>iOS</td>\n",
       "      <td>Other</td>\n",
       "      <td>64.0</td>\n",
       "    </tr>\n",
       "    <tr>\n",
       "      <th>75</th>\n",
       "      <td>APPLE iPhone 14 Pro Max (Gold, 512 GB)</td>\n",
       "      <td>4.7</td>\n",
       "      <td>26927</td>\n",
       "      <td>https://rukminim2.flixcart.com/image/312/312/x...</td>\n",
       "      <td>Storage512  SystemiOS 16Processor TypeA16 Bion...</td>\n",
       "      <td>APPLE</td>\n",
       "      <td>NaN</td>\n",
       "      <td>iOS</td>\n",
       "      <td>Other</td>\n",
       "      <td>512.0</td>\n",
       "    </tr>\n",
       "    <tr>\n",
       "      <th>78</th>\n",
       "      <td>APPLE iPhone 13 Pro Max (Sierra Blue, 1 TB)</td>\n",
       "      <td>4.6</td>\n",
       "      <td>24927</td>\n",
       "      <td>https://rukminim2.flixcart.com/image/312/312/k...</td>\n",
       "      <td>Storage1024  SystemiOS 15Processor TypeA15 Bio...</td>\n",
       "      <td>APPLE</td>\n",
       "      <td>NaN</td>\n",
       "      <td>iOS</td>\n",
       "      <td>Other</td>\n",
       "      <td>1024.0</td>\n",
       "    </tr>\n",
       "  </tbody>\n",
       "</table>\n",
       "</div>"
      ],
      "text/plain": [
       "                                           name  ratings  price  \\\n",
       "4           APPLE iPhone 13 mini (Blue, 128 GB)      4.6   3537   \n",
       "5            APPLE iPhone 6s Plus (Gold, 64 GB)      4.5   5537   \n",
       "16  APPLE iPhone 14 Plus ((PRODUCT)RED, 256 GB)      4.6  24463   \n",
       "28            OPPO Reno10 5G (Ice Blue, 256 GB)      4.6  32537   \n",
       "40        APPLE iPhone XR ((PRODUCT)RED, 64 GB)      4.4  28537   \n",
       "43           APPLE iPhone 14 Pro (Gold, 256 GB)      4.7     73   \n",
       "54      APPLE iPhone 14 Plus (Midnight, 256 GB)      4.4  24463   \n",
       "72              APPLE iPhone 6s (Silver, 64 GB)      4.5  15537   \n",
       "75       APPLE iPhone 14 Pro Max (Gold, 512 GB)      4.7  26927   \n",
       "78  APPLE iPhone 13 Pro Max (Sierra Blue, 1 TB)      4.6  24927   \n",
       "\n",
       "                                               imgURL  \\\n",
       "4   https://rukminim2.flixcart.com/image/312/312/k...   \n",
       "5   https://rukminim2.flixcart.com/image/312/312/m...   \n",
       "16  https://rukminim2.flixcart.com/image/312/312/x...   \n",
       "28  https://rukminim2.flixcart.com/image/312/312/x...   \n",
       "40  https://rukminim2.flixcart.com/image/312/312/j...   \n",
       "43  https://rukminim2.flixcart.com/image/312/312/x...   \n",
       "54  https://rukminim2.flixcart.com/image/312/312/x...   \n",
       "72  https://rukminim2.flixcart.com/image/312/312/m...   \n",
       "75  https://rukminim2.flixcart.com/image/312/312/x...   \n",
       "78  https://rukminim2.flixcart.com/image/312/312/k...   \n",
       "\n",
       "                                               corpus  Brand  RAM   System  \\\n",
       "4   Storage128  SystemiOS 15Processor TypeA15 Bion...  APPLE  NaN      iOS   \n",
       "5   Storage64  SystemiOS 9Processor TypeA9 Chip 12...  APPLE  NaN      iOS   \n",
       "16  Storage256  SystemiOS 16Processor TypeA15 Bion...  APPLE  NaN      iOS   \n",
       "28  Storage256 SystemAndroid 13Processor TypeDimen...   OPPO  NaN  Android   \n",
       "40  Storage64  SystemiOS 14.2Processor TypeA12 Bio...  APPLE  NaN      iOS   \n",
       "43  Storage256  SystemiOS 16Processor TypeA16 Bion...  APPLE  NaN      iOS   \n",
       "54  Storage256  SystemiOS 16Processor TypeA15 Bion...  APPLE  NaN      iOS   \n",
       "72  Storage64  SystemiOS 9Processor TypeA9 Chip 12...  APPLE  NaN      iOS   \n",
       "75  Storage512  SystemiOS 16Processor TypeA16 Bion...  APPLE  NaN      iOS   \n",
       "78  Storage1024  SystemiOS 15Processor TypeA15 Bio...  APPLE  NaN      iOS   \n",
       "\n",
       "   Processor  Storage  \n",
       "4      Other    128.0  \n",
       "5      Other     64.0  \n",
       "16     Other    256.0  \n",
       "28     Other    256.0  \n",
       "40     Other     64.0  \n",
       "43     Other    256.0  \n",
       "54     Other    256.0  \n",
       "72     Other     64.0  \n",
       "75     Other    512.0  \n",
       "78     Other   1024.0  "
      ]
     },
     "execution_count": 37,
     "metadata": {},
     "output_type": "execute_result"
    }
   ],
   "source": [
    "data.loc[data.RAM.isnull()].head(10)"
   ]
  },
  {
   "cell_type": "code",
   "execution_count": 38,
   "id": "110602f1",
   "metadata": {
    "papermill": {
     "duration": 0.038243,
     "end_time": "2023-08-14T20:13:22.325786",
     "exception": false,
     "start_time": "2023-08-14T20:13:22.287543",
     "status": "completed"
    },
    "tags": []
   },
   "outputs": [
    {
     "data": {
      "text/plain": [
       "array(['APPLE iPhone 11 (Black, 128 GB)',\n",
       "       'APPLE iPhone 11 (Black, 64 GB)',\n",
       "       'APPLE iPhone 11 (Purple, 128 GB)',\n",
       "       'APPLE iPhone 11 (Purple, 64 GB)', 'APPLE iPhone 11 (Red, 128 GB)',\n",
       "       'APPLE iPhone 11 (White, 128 GB)',\n",
       "       'APPLE iPhone 11 (White, 64 GB)',\n",
       "       'APPLE iPhone 11 (Yellow, 64 GB)',\n",
       "       'APPLE iPhone 11 (Yellow, 64 GB)',\n",
       "       'APPLE iPhone 11 Pro (Gold, 256 GB)',\n",
       "       'APPLE iPhone 11 Pro (Gold, 512 GB)',\n",
       "       'APPLE iPhone 11 Pro (Gold, 64 GB)',\n",
       "       'APPLE iPhone 11 Pro (Midnight Green, 256 GB)',\n",
       "       'APPLE iPhone 11 Pro (Midnight Green, 64 GB)',\n",
       "       'APPLE iPhone 11 Pro (Silver, 256 GB)',\n",
       "       'APPLE iPhone 11 Pro (Silver, 512 GB)',\n",
       "       'APPLE iPhone 11 Pro (Silver, 64 GB)',\n",
       "       'APPLE iPhone 11 Pro (Space Grey, 256 GB)',\n",
       "       'APPLE iPhone 11 Pro (Space Grey, 512 GB)',\n",
       "       'APPLE iPhone 11 Pro (Space Grey, 64 GB)',\n",
       "       'APPLE iPhone 11 Pro Max (Gold, 256 GB)',\n",
       "       'APPLE iPhone 11 Pro Max (Midnight Green, 256 GB)',\n",
       "       'APPLE iPhone 11 Pro Max (Midnight Green, 512 GB)',\n",
       "       'APPLE iPhone 11 Pro Max (Midnight Green, 64 GB)',\n",
       "       'APPLE iPhone 11 Pro Max (Silver, 256 GB)',\n",
       "       'APPLE iPhone 11 Pro Max (Silver, 512 GB)',\n",
       "       'APPLE iPhone 11 Pro Max (Silver, 64 GB)',\n",
       "       'APPLE iPhone 11 Pro Max (Space Grey, 256 GB)',\n",
       "       'APPLE iPhone 11 Pro Max (Space Grey, 512 GB)',\n",
       "       'APPLE iPhone 11 Pro Max (Space Grey, 64 GB)',\n",
       "       'APPLE iPhone 11 Pro Max (Space Grey, 64 GB)',\n",
       "       'APPLE iPhone 12 (Black, 256 GB)',\n",
       "       'APPLE iPhone 12 (Black, 64 GB)', 'APPLE iPhone 12 (Blue, 128 GB)',\n",
       "       'APPLE iPhone 12 (Blue, 128 GB)', 'APPLE iPhone 12 (Blue, 256 GB)',\n",
       "       'APPLE iPhone 12 (Blue, 64 GB)', 'APPLE iPhone 12 (Green, 128 GB)',\n",
       "       'APPLE iPhone 12 (Green, 256 GB)',\n",
       "       'APPLE iPhone 12 (Green, 64 GB)',\n",
       "       'APPLE iPhone 12 (Purple, 128 GB)',\n",
       "       'APPLE iPhone 12 (Purple, 256 GB)',\n",
       "       'APPLE iPhone 12 (Purple, 64 GB)', 'APPLE iPhone 12 (Red, 128 GB)',\n",
       "       'APPLE iPhone 12 (Red, 256 GB)', 'APPLE iPhone 12 (Red, 64 GB)',\n",
       "       'APPLE iPhone 12 (White, 128 GB)',\n",
       "       'APPLE iPhone 12 (White, 256 GB)',\n",
       "       'APPLE iPhone 12 (White, 64 GB)',\n",
       "       'APPLE iPhone 12 Pro (Gold, 128 GB)',\n",
       "       'APPLE iPhone 12 Pro (Gold, 256 GB)',\n",
       "       'APPLE iPhone 12 Pro (Gold, 512 GB)',\n",
       "       'APPLE iPhone 12 Pro (Graphite, 128 GB)',\n",
       "       'APPLE iPhone 12 Pro (Graphite, 256 GB)',\n",
       "       'APPLE iPhone 12 Pro (Graphite, 512 GB)',\n",
       "       'APPLE iPhone 12 Pro (Pacific Blue, 256 GB)',\n",
       "       'APPLE iPhone 12 Pro (Pacific Blue, 512 GB)',\n",
       "       'APPLE iPhone 12 Pro (Silver, 128 GB)',\n",
       "       'APPLE iPhone 12 Pro (Silver, 256 GB)',\n",
       "       'APPLE iPhone 12 Pro (Silver, 512 GB)',\n",
       "       'APPLE iPhone 12 Pro Max (Gold, 128 GB)',\n",
       "       'APPLE iPhone 12 Pro Max (Gold, 512 GB)',\n",
       "       'APPLE iPhone 12 Pro Max (Graphite, 128 GB)',\n",
       "       'APPLE iPhone 12 Pro Max (Graphite, 256 GB)',\n",
       "       'APPLE iPhone 12 Pro Max (Graphite, 512 GB)',\n",
       "       'APPLE iPhone 12 Pro Max (Pacific Blue, 128 GB)',\n",
       "       'APPLE iPhone 12 Pro Max (Pacific Blue, 256 GB)',\n",
       "       'APPLE iPhone 12 Pro Max (Pacific Blue, 512 GB)',\n",
       "       'APPLE iPhone 12 Pro Max (Silver, 128 GB)',\n",
       "       'APPLE iPhone 12 Pro Max (Silver, 256 GB)',\n",
       "       'APPLE iPhone 12 Pro Max (Silver, 512 GB)',\n",
       "       'APPLE iPhone 12 mini (Black, 128 GB)',\n",
       "       'APPLE iPhone 12 mini (Black, 256 GB)',\n",
       "       'APPLE iPhone 12 mini (Black, 64 GB)',\n",
       "       'APPLE iPhone 12 mini (Blue, 128 GB)',\n",
       "       'APPLE iPhone 12 mini (Blue, 64 GB)',\n",
       "       'APPLE iPhone 12 mini (Blue, 64 GB)',\n",
       "       'APPLE iPhone 12 mini (Green, 128 GB)',\n",
       "       'APPLE iPhone 12 mini (Green, 256 GB)',\n",
       "       'APPLE iPhone 12 mini (Green, 64 GB)',\n",
       "       'APPLE iPhone 12 mini (Purple, 128 GB)',\n",
       "       'APPLE iPhone 12 mini (Purple, 64 GB)',\n",
       "       'APPLE iPhone 12 mini (Red, 128 GB)',\n",
       "       'APPLE iPhone 12 mini (Red, 256 GB)',\n",
       "       'APPLE iPhone 12 mini (Red, 64 GB)',\n",
       "       'APPLE iPhone 12 mini (White, 128 GB)',\n",
       "       'APPLE iPhone 12 mini (White, 256 GB)',\n",
       "       'APPLE iPhone 12 mini (White, 64 GB)',\n",
       "       'APPLE iPhone 13 ((PRODUCT)RED, 128 GB)',\n",
       "       'APPLE iPhone 13 ((PRODUCT)RED, 256 GB)',\n",
       "       'APPLE iPhone 13 (Blue, 128 GB)', 'APPLE iPhone 13 (Blue, 256 GB)',\n",
       "       'APPLE iPhone 13 (Blue, 512 GB)',\n",
       "       'APPLE iPhone 13 (Green, 128 GB)',\n",
       "       'APPLE iPhone 13 (Green, 512 GB)',\n",
       "       'APPLE iPhone 13 (Midnight, 128 GB)',\n",
       "       'APPLE iPhone 13 (Midnight, 512 GB)',\n",
       "       'APPLE iPhone 13 (Pink, 256 GB)', 'APPLE iPhone 13 (Pink, 512 GB)',\n",
       "       'APPLE iPhone 13 (Starlight, 128 GB)',\n",
       "       'APPLE iPhone 13 (Starlight, 256 GB)',\n",
       "       'APPLE iPhone 13 (Starlight, 512 GB)',\n",
       "       'APPLE iPhone 13 Pro (Alpine Green, 1 TB)',\n",
       "       'APPLE iPhone 13 Pro (Alpine Green, 256 GB)',\n",
       "       'APPLE iPhone 13 Pro (Alpine Green, 512 GB)',\n",
       "       'APPLE iPhone 13 Pro (Gold, 1 TB)',\n",
       "       'APPLE iPhone 13 Pro (Gold, 128 GB)',\n",
       "       'APPLE iPhone 13 Pro (Gold, 256 GB)',\n",
       "       'APPLE iPhone 13 Pro (Gold, 512 GB)',\n",
       "       'APPLE iPhone 13 Pro (Graphite, 1 TB)',\n",
       "       'APPLE iPhone 13 Pro (Graphite, 128 GB)',\n",
       "       'APPLE iPhone 13 Pro (Graphite, 256 GB)',\n",
       "       'APPLE iPhone 13 Pro (Graphite, 512 GB)',\n",
       "       'APPLE iPhone 13 Pro (Sierra Blue, 128 GB)',\n",
       "       'APPLE iPhone 13 Pro (Sierra Blue, 256 GB)',\n",
       "       'APPLE iPhone 13 Pro (Silver, 1 TB)',\n",
       "       'APPLE iPhone 13 Pro (Silver, 128 GB)',\n",
       "       'APPLE iPhone 13 Pro (Silver, 256 GB)',\n",
       "       'APPLE iPhone 13 Pro (Silver, 512 GB)',\n",
       "       'APPLE iPhone 13 Pro Max (Alpine Green, 1 TB)',\n",
       "       'APPLE iPhone 13 Pro Max (Alpine Green, 128 GB)',\n",
       "       'APPLE iPhone 13 Pro Max (Alpine Green, 256 GB)',\n",
       "       'APPLE iPhone 13 Pro Max (Alpine Green, 512 GB)',\n",
       "       'APPLE iPhone 13 Pro Max (Gold, 128 GB)',\n",
       "       'APPLE iPhone 13 Pro Max (Gold, 512 GB)',\n",
       "       'APPLE iPhone 13 Pro Max (Graphite, 1 TB)',\n",
       "       'APPLE iPhone 13 Pro Max (Graphite, 128 GB)',\n",
       "       'APPLE iPhone 13 Pro Max (Graphite, 256 GB)',\n",
       "       'APPLE iPhone 13 Pro Max (Graphite, 512 GB)',\n",
       "       'APPLE iPhone 13 Pro Max (Sierra Blue, 1 TB)',\n",
       "       'APPLE iPhone 13 Pro Max (Sierra Blue, 256 GB)',\n",
       "       'APPLE iPhone 13 Pro Max (Sierra Blue, 512 GB)',\n",
       "       'APPLE iPhone 13 Pro Max (Silver, 1 TB)',\n",
       "       'APPLE iPhone 13 Pro Max (Silver, 256 GB)',\n",
       "       'APPLE iPhone 13 Pro Max (Silver, 512 GB)',\n",
       "       'APPLE iPhone 13 mini ((PRODUCT)RED, 128 GB)',\n",
       "       'APPLE iPhone 13 mini ((PRODUCT)RED, 256 GB)',\n",
       "       'APPLE iPhone 13 mini (Blue, 128 GB)',\n",
       "       'APPLE iPhone 13 mini (Blue, 256 GB)',\n",
       "       'APPLE iPhone 13 mini (Blue, 512 GB)',\n",
       "       'APPLE iPhone 13 mini (Green, 128 GB)',\n",
       "       'APPLE iPhone 13 mini (Green, 256 GB)',\n",
       "       'APPLE iPhone 13 mini (Midnight, 128 GB)',\n",
       "       'APPLE iPhone 13 mini (Midnight, 256 GB)',\n",
       "       'APPLE iPhone 13 mini (Midnight, 512 GB)',\n",
       "       'APPLE iPhone 13 mini (Pink, 128 GB)',\n",
       "       'APPLE iPhone 13 mini (Pink, 256 GB)',\n",
       "       'APPLE iPhone 13 mini (Pink, 512 GB)',\n",
       "       'APPLE iPhone 13 mini (Starlight, 128 GB)',\n",
       "       'APPLE iPhone 13 mini (Starlight, 256 GB)',\n",
       "       'APPLE iPhone 13 mini (Starlight, 256 GB)',\n",
       "       'APPLE iPhone 13 mini (Starlight, 512 GB)',\n",
       "       'APPLE iPhone 14 ((PRODUCT)RED, 128 GB)',\n",
       "       'APPLE iPhone 14 ((PRODUCT)RED, 512 GB)',\n",
       "       'APPLE iPhone 14 (Blue, 256 GB)', 'APPLE iPhone 14 (Blue, 512 GB)',\n",
       "       'APPLE iPhone 14 (Midnight, 128 GB)',\n",
       "       'APPLE iPhone 14 (Midnight, 512 GB)',\n",
       "       'APPLE iPhone 14 (Purple, 128 GB)',\n",
       "       'APPLE iPhone 14 (Purple, 256 GB)',\n",
       "       'APPLE iPhone 14 (Purple, 512 GB)',\n",
       "       'APPLE iPhone 14 (Starlight, 128 GB)',\n",
       "       'APPLE iPhone 14 (Starlight, 256 GB)',\n",
       "       'APPLE iPhone 14 (Starlight, 512 GB)',\n",
       "       'APPLE iPhone 14 (Yellow, 128 GB)',\n",
       "       'APPLE iPhone 14 (Yellow, 256 GB)',\n",
       "       'APPLE iPhone 14 (Yellow, 512 GB)',\n",
       "       'APPLE iPhone 14 Plus ((PRODUCT)RED, 128 GB)',\n",
       "       'APPLE iPhone 14 Plus ((PRODUCT)RED, 256 GB)',\n",
       "       'APPLE iPhone 14 Plus ((PRODUCT)RED, 256 GB)',\n",
       "       'APPLE iPhone 14 Plus (Blue, 128 GB)',\n",
       "       'APPLE iPhone 14 Plus (Blue, 256 GB)',\n",
       "       'APPLE iPhone 14 Plus (Blue, 512 GB)',\n",
       "       'APPLE iPhone 14 Plus (Midnight, 256 GB)',\n",
       "       'APPLE iPhone 14 Plus (Midnight, 512 GB)',\n",
       "       'APPLE iPhone 14 Plus (Purple, 256 GB)',\n",
       "       'APPLE iPhone 14 Plus (Purple, 512 GB)',\n",
       "       'APPLE iPhone 14 Plus (Starlight, 128 GB)',\n",
       "       'APPLE iPhone 14 Plus (Starlight, 256 GB)',\n",
       "       'APPLE iPhone 14 Plus (Yellow, 128 GB)',\n",
       "       'APPLE iPhone 14 Plus (Yellow, 256 GB)',\n",
       "       'APPLE iPhone 14 Plus (Yellow, 512 GB)',\n",
       "       'APPLE iPhone 14 Pro (Deep Purple, 1 TB)',\n",
       "       'APPLE iPhone 14 Pro (Deep Purple, 128 GB)',\n",
       "       'APPLE iPhone 14 Pro (Deep Purple, 256 GB)',\n",
       "       'APPLE iPhone 14 Pro (Deep Purple, 512 GB)',\n",
       "       'APPLE iPhone 14 Pro (Gold, 128 GB)',\n",
       "       'APPLE iPhone 14 Pro (Gold, 256 GB)',\n",
       "       'APPLE iPhone 14 Pro (Gold, 512 GB)',\n",
       "       'APPLE iPhone 14 Pro (Silver, 1 TB)',\n",
       "       'APPLE iPhone 14 Pro (Silver, 128 GB)',\n",
       "       'APPLE iPhone 14 Pro (Silver, 256 GB)',\n",
       "       'APPLE iPhone 14 Pro (Silver, 512 GB)',\n",
       "       'APPLE iPhone 14 Pro (Space Black, 128 GB)',\n",
       "       'APPLE iPhone 14 Pro (Space Black, 256 GB)',\n",
       "       'APPLE iPhone 14 Pro Max (Deep Purple, 1 TB)',\n",
       "       'APPLE iPhone 14 Pro Max (Deep Purple, 128 GB)',\n",
       "       'APPLE iPhone 14 Pro Max (Deep Purple, 256 GB)',\n",
       "       'APPLE iPhone 14 Pro Max (Deep Purple, 512 GB)',\n",
       "       'APPLE iPhone 14 Pro Max (Gold, 1 TB)',\n",
       "       'APPLE iPhone 14 Pro Max (Gold, 128 GB)',\n",
       "       'APPLE iPhone 14 Pro Max (Gold, 512 GB)',\n",
       "       'APPLE iPhone 14 Pro Max (Silver, 1 TB)',\n",
       "       'APPLE iPhone 14 Pro Max (Silver, 128 GB)',\n",
       "       'APPLE iPhone 14 Pro Max (Silver, 256 GB)',\n",
       "       'APPLE iPhone 14 Pro Max (Silver, 512 GB)',\n",
       "       'APPLE iPhone 14 Pro Max (Silver, 512 GB)',\n",
       "       'APPLE iPhone 14 Pro Max (Space Black, 1 TB)',\n",
       "       'APPLE iPhone 14 Pro Max (Space Black, 128 GB)',\n",
       "       'APPLE iPhone 5C (Blue, 16 GB)', 'APPLE iPhone 5C (Blue, 8 GB)',\n",
       "       'APPLE iPhone 5C (Green, 16 GB)', 'APPLE iPhone 5C (Green, 8 GB)',\n",
       "       'APPLE iPhone 5C (Pink, 8 GB)', 'APPLE iPhone 5C (White, 16 GB)',\n",
       "       'APPLE iPhone 5C (White, 32 GB)', 'APPLE iPhone 5C (White, 8 GB)',\n",
       "       'APPLE iPhone 5s (Silver, 16 GB)',\n",
       "       'APPLE iPhone 5s (Space Grey, 16 GB)',\n",
       "       'APPLE iPhone 6 (Gold, 128 GB)', 'APPLE iPhone 6 (Gold, 32 GB)',\n",
       "       'APPLE iPhone 6 (Gold, 64 GB)', 'APPLE iPhone 6 (Grey, 128 GB)',\n",
       "       'APPLE iPhone 6 (Silver, 128 GB)',\n",
       "       'APPLE iPhone 6 (Silver, 16 GB)',\n",
       "       'APPLE iPhone 6 (Space Grey, 16 GB)',\n",
       "       'APPLE iPhone 6 (Space Grey, 32 GB)',\n",
       "       'APPLE iPhone 6 Plus (Gold, 128 GB)',\n",
       "       'APPLE iPhone 6 Plus (Gold, 64 GB)',\n",
       "       'APPLE iPhone 6 Plus (Silver, 128 GB)',\n",
       "       'APPLE iPhone 6 Plus (Silver, 16 GB)',\n",
       "       'APPLE iPhone 6 Plus (Silver, 64 GB)',\n",
       "       'APPLE iPhone 6 Plus (Space Grey, 128 GB)',\n",
       "       'APPLE iPhone 6 Plus (Space Grey, 16 GB)',\n",
       "       'APPLE iPhone 6 Plus (Space Grey, 64 GB)',\n",
       "       'APPLE iPhone 6s (Gold, 16 GB)', 'APPLE iPhone 6s (Gold, 32 GB)',\n",
       "       'APPLE iPhone 6s (Gold, 64 GB)',\n",
       "       'APPLE iPhone 6s (Rose Gold, 128 GB)',\n",
       "       'APPLE iPhone 6s (Rose Gold, 16 GB)',\n",
       "       'APPLE iPhone 6s (Rose Gold, 64 GB)',\n",
       "       'APPLE iPhone 6s (Silver, 128 GB)',\n",
       "       'APPLE iPhone 6s (Silver, 16 GB)',\n",
       "       'APPLE iPhone 6s (Silver, 32 GB)',\n",
       "       'APPLE iPhone 6s (Silver, 64 GB)',\n",
       "       'APPLE iPhone 6s (Space Grey, 16 GB)',\n",
       "       'APPLE iPhone 6s (Space Grey, 32 GB)',\n",
       "       'APPLE iPhone 6s (Space Grey, 64 GB)',\n",
       "       'APPLE iPhone 6s Plus (Gold, 128 GB)',\n",
       "       'APPLE iPhone 6s Plus (Gold, 16 GB)',\n",
       "       'APPLE iPhone 6s Plus (Gold, 32 GB)',\n",
       "       'APPLE iPhone 6s Plus (Gold, 64 GB)',\n",
       "       'APPLE iPhone 6s Plus (Rose Gold, 128 GB)',\n",
       "       'APPLE iPhone 6s Plus (Rose Gold, 16 GB)',\n",
       "       'APPLE iPhone 6s Plus (Silver, 128 GB)',\n",
       "       'APPLE iPhone 6s Plus (Silver, 32 GB)',\n",
       "       'APPLE iPhone 6s Plus (Silver, 64 GB)',\n",
       "       'APPLE iPhone 6s Plus (Space Grey, 16 GB)',\n",
       "       'APPLE iPhone 6s Plus (Space Grey, 32 GB)',\n",
       "       'APPLE iPhone 7 (Black, 128 GB)', 'APPLE iPhone 7 (Black, 256 GB)',\n",
       "       'APPLE iPhone 7 (Gold, 128 GB)', 'APPLE iPhone 7 (Gold, 256 GB)',\n",
       "       'APPLE iPhone 7 (Gold, 32 GB)',\n",
       "       'APPLE iPhone 7 (Jet Black, 256 GB)',\n",
       "       'APPLE iPhone 7 (Jet Black, 32 GB)',\n",
       "       'APPLE iPhone 7 (PRODUCT) (Red, 256 GB)',\n",
       "       'APPLE iPhone 7 (Red, 128 GB)', 'APPLE iPhone 7 (Red, 128 GB)',\n",
       "       'APPLE iPhone 7 (Rose Gold, 128 GB)',\n",
       "       'APPLE iPhone 7 (Rose Gold, 256 GB)',\n",
       "       'APPLE iPhone 7 (Rose Gold, 32 GB)',\n",
       "       'APPLE iPhone 7 (Silver, 128 GB)',\n",
       "       'APPLE iPhone 7 (Silver, 128 GB)',\n",
       "       'APPLE iPhone 7 (Silver, 256 GB)',\n",
       "       'APPLE iPhone 7 (Silver, 32 GB)',\n",
       "       'APPLE iPhone 7 Plus (Black, 128 GB)',\n",
       "       'APPLE iPhone 7 Plus (Black, 256 GB)',\n",
       "       'APPLE iPhone 7 Plus (Gold, 128 GB)',\n",
       "       'APPLE iPhone 7 Plus (Gold, 256 GB)',\n",
       "       'APPLE iPhone 7 Plus (Gold, 32 GB)',\n",
       "       'APPLE iPhone 7 Plus (Jet Black, 128 GB)',\n",
       "       'APPLE iPhone 7 Plus (Jet Black, 256 GB)',\n",
       "       'APPLE iPhone 7 Plus (Rose Gold, 128 GB)',\n",
       "       'APPLE iPhone 7 Plus (Rose Gold, 256 GB)',\n",
       "       'APPLE iPhone 7 Plus (Rose Gold, 32 GB)',\n",
       "       'APPLE iPhone 7 Plus (Silver, 128 GB)',\n",
       "       'APPLE iPhone 7 Plus (Silver, 256 GB)',\n",
       "       'APPLE iPhone 8 (Gold, 256 GB)',\n",
       "       'APPLE iPhone 8 (PRODUCT)RED (Red, 256 GB)',\n",
       "       'APPLE iPhone 8 (Silver, 256 GB)',\n",
       "       'APPLE iPhone 8 (Silver, 64 GB)',\n",
       "       'APPLE iPhone 8 (Space Grey, 256 GB)',\n",
       "       'APPLE iPhone 8 (Space Grey, 256 GB)',\n",
       "       'APPLE iPhone 8 (Space Grey, 64 GB)',\n",
       "       'APPLE iPhone 8 Plus (Gold, 256 GB)',\n",
       "       'APPLE iPhone 8 Plus (Gold, 64 GB)',\n",
       "       'APPLE iPhone 8 Plus (PRODUCT)RED (Red, 256 GB)',\n",
       "       'APPLE iPhone 8 Plus (PRODUCT)RED (Red, 64 GB)',\n",
       "       'APPLE iPhone 8 Plus (Silver, 256 GB)',\n",
       "       'APPLE iPhone 8 Plus (Silver, 64 GB)',\n",
       "       'APPLE iPhone 8 Plus (Space Grey, 256 GB)',\n",
       "       'APPLE iPhone 8 Plus (Space Grey, 64 GB)',\n",
       "       'APPLE iPhone SE (Black, 128 GB)',\n",
       "       'APPLE iPhone SE (Black, 256 GB)',\n",
       "       'APPLE iPhone SE (Black, 64 GB)', 'APPLE iPhone SE (Red, 128 GB)',\n",
       "       'APPLE iPhone SE (Red, 256 GB)', 'APPLE iPhone SE (Red, 64 GB)',\n",
       "       'APPLE iPhone SE (White, 128 GB)',\n",
       "       'APPLE iPhone SE (White, 256 GB)',\n",
       "       'APPLE iPhone SE (White, 64 GB)',\n",
       "       'APPLE iPhone SE 3rd Gen (Midnight, 256 GB)',\n",
       "       'APPLE iPhone SE 3rd Gen (Product (Red), 128 GB)',\n",
       "       'APPLE iPhone SE 3rd Gen (Product (Red), 256 GB)',\n",
       "       'APPLE iPhone SE 3rd Gen (Product (Red), 64 GB)',\n",
       "       'APPLE iPhone SE 3rd Gen (Starlight, 128 GB)',\n",
       "       'APPLE iPhone SE 3rd Gen (Starlight, 256 GB)',\n",
       "       'APPLE iPhone SE 3rd Gen (Starlight, 64 GB)',\n",
       "       'APPLE iPhone X (Space Gray, 256 GB)',\n",
       "       'APPLE iPhone X (Space Gray, 64 GB)',\n",
       "       'APPLE iPhone XR ((PRODUCT)RED, 128 GB)',\n",
       "       'APPLE iPhone XR ((PRODUCT)RED, 64 GB)',\n",
       "       'APPLE iPhone XR (Black, 128 GB)',\n",
       "       'APPLE iPhone XR (Black, 64 GB)', 'APPLE iPhone XR (Blue, 128 GB)',\n",
       "       'APPLE iPhone XR (Blue, 64 GB)', 'APPLE iPhone XR (Coral, 128 GB)',\n",
       "       'APPLE iPhone XR (Coral, 64 GB)',\n",
       "       'APPLE iPhone XR (White, 128 GB)',\n",
       "       'APPLE iPhone XR (White, 64 GB)',\n",
       "       'APPLE iPhone XR (Yellow, 128 GB)',\n",
       "       'APPLE iPhone XR (Yellow, 64 GB)',\n",
       "       'APPLE iPhone XS (Gold, 256 GB)',\n",
       "       'APPLE iPhone XS (Silver, 256 GB)',\n",
       "       'APPLE iPhone XS (Silver, 512 GB)',\n",
       "       'APPLE iPhone XS (Silver, 64 GB)',\n",
       "       'APPLE iPhone XS (Space Grey, 256 GB)',\n",
       "       'APPLE iPhone XS (Space Grey, 512 GB)',\n",
       "       'APPLE iPhone XS (Space Grey, 64 GB)',\n",
       "       'APPLE iPhone XS Max (Gold, 256 GB)',\n",
       "       'APPLE iPhone XS Max (Gold, 512 GB)',\n",
       "       'APPLE iPhone XS Max (Silver, 256 GB)',\n",
       "       'APPLE iPhone XS Max (Silver, 512 GB)',\n",
       "       'APPLE iPhone XS Max (Silver, 64 GB)',\n",
       "       'APPLE iPhone XS Max (Space Grey, 256 GB)',\n",
       "       'APPLE iPhone XS Max (Space Grey, 512 GB)',\n",
       "       'Apple iPhone SE (Black, 128 GB) (Includes EarPods, Power Adapter)',\n",
       "       'Apple iPhone SE (Black, 256 GB) (Includes EarPods, Power Adapter)',\n",
       "       'Apple iPhone SE (Black, 64 GB) (Includes EarPods, Power Adapter)',\n",
       "       'Apple iPhone SE (Red, 128 GB) (Includes EarPods, Power Adapter)',\n",
       "       'Apple iPhone SE (Red, 256 GB) (Includes EarPods, Power Adapter)',\n",
       "       'Apple iPhone SE (Red, 64 GB) (Includes EarPods, Power Adapter)',\n",
       "       'Apple iPhone SE (White, 128 GB) (Includes EarPods, Power Adapter)',\n",
       "       'Apple iPhone SE (White, 256 GB) (Includes EarPods, Power Adapter)',\n",
       "       'Apple iPhone SE (White, 64 GB) (Includes EarPods, Power Adapter)',\n",
       "       'Apple iPhone XR ((PRODUCT)RED, 256 GB) (Includes EarPods, Power Adapter)',\n",
       "       'Apple iPhone XR ((PRODUCT)RED, 64 GB) (Includes EarPods, Power Adapter)',\n",
       "       'Apple iPhone XR (Black, 128 GB) (Includes EarPods, Power Adapter)',\n",
       "       'Apple iPhone XR (Black, 256 GB) (Includes EarPods, Power Adapter)',\n",
       "       'Apple iPhone XR (Black, 64 GB) (Includes EarPods, Power Adapter)',\n",
       "       'Apple iPhone XR (Blue, 128 GB) (Includes EarPods, Power Adapter)',\n",
       "       'Apple iPhone XR (Blue, 256 GB) (Includes EarPods, Power Adapter)',\n",
       "       'Apple iPhone XR (Blue, 64 GB) (Includes EarPods, Power Adapter)',\n",
       "       'Apple iPhone XR (Coral, 128 GB) (Includes EarPods, Power Adapter)',\n",
       "       'Apple iPhone XR (Coral, 256 GB) (Includes EarPods, Power Adapter)',\n",
       "       'Apple iPhone XR (Coral, 256 GB) (Includes EarPods, Power Adapter)',\n",
       "       'Apple iPhone XR (Coral, 64 GB) (Includes EarPods, Power Adapter)',\n",
       "       'Apple iPhone XR (White, 128 GB) (Includes EarPods, Power Adapter)',\n",
       "       'Apple iPhone XR (White, 256 GB) (Includes EarPods, Power Adapter)',\n",
       "       'Apple iPhone XR (White, 64 GB) (Includes EarPods, Power Adapter)',\n",
       "       'Apple iPhone XR (Yellow, 128 GB) (Includes EarPods, Power Adapter)',\n",
       "       'Apple iPhone XR (Yellow, 64 GB) (Includes EarPods, Power Adapter)'],\n",
       "      dtype=object)"
      ]
     },
     "execution_count": 38,
     "metadata": {},
     "output_type": "execute_result"
    }
   ],
   "source": [
    "np.sort(data.loc[data.name.str.contains('iPhone')].name.values)"
   ]
  },
  {
   "cell_type": "code",
   "execution_count": 39,
   "id": "54b58acf",
   "metadata": {
    "papermill": {
     "duration": 0.082795,
     "end_time": "2023-08-14T20:13:22.426532",
     "exception": false,
     "start_time": "2023-08-14T20:13:22.343737",
     "status": "completed"
    },
    "tags": []
   },
   "outputs": [],
   "source": [
    "iphone_ram_mapping = {\n",
    "    'iPhone 14': 6,\n",
    "    'iPhone 13': 4,\n",
    "    'iPhone 13 Pro': 6,\n",
    "    'iPhone 12': 4,\n",
    "    'iPhone 12 Pro': 6,\n",
    "    'iPhone 11': 4,\n",
    "    'iPhone X': 3,\n",
    "    'iPhone XR': 3,\n",
    "    'iPhone XS': 4,\n",
    "    'iPhone 8': 2,\n",
    "    'iPhone 8 Plus': 3,\n",
    "    'iPhone 7': 2,\n",
    "    'iPhone 7 Plus': 3,\n",
    "    'iPhone 6': 1,\n",
    "    'iPhone 6S': 2,\n",
    "    'iPhone 5': 1,\n",
    "    'iPhone SE': 2,\n",
    "    'iPhone SE 3rd Gen': 4, \n",
    "    'IPhone 4': .512\n",
    "}\n",
    "\n",
    "for model_name, ram_value in iphone_ram_mapping.items():\n",
    "    data.loc[data.name.str.contains(model_name, case = True), 'RAM'] = ram_value"
   ]
  },
  {
   "cell_type": "code",
   "execution_count": 40,
   "id": "f3832a69",
   "metadata": {
    "papermill": {
     "duration": 0.033567,
     "end_time": "2023-08-14T20:13:22.479453",
     "exception": false,
     "start_time": "2023-08-14T20:13:22.445886",
     "status": "completed"
    },
    "tags": []
   },
   "outputs": [
    {
     "data": {
      "text/plain": [
       "28            OPPO Reno10 5G (Ice Blue, 256 GB)\n",
       "108                        SAMSUNG Guru Music 2\n",
       "130                      SAMSUNG GT-E1215ZWAINS\n",
       "253                        SAMSUNG Guru Music 2\n",
       "279       OPPO Reno10 5G (Silvery Grey, 256 GB)\n",
       "500     Infinix Smart 7 HD (Green Apple, 64 GB)\n",
       "573           OPPO Reno10 5G (Ice Blue, 256 GB)\n",
       "600       OPPO Reno10 5G (Silvery Grey, 256 GB)\n",
       "958        SAMSUNG Galaxy A2 Core (Blue, 16 GB)\n",
       "998                        SAMSUNG Guru Music 2\n",
       "1110                       SAMSUNG Guru FM Plus\n",
       "1250          OPPO Reno10 5G (Ice Blue, 256 GB)\n",
       "1357            SAMSUNG Guru FM Plus SM-B110E/D\n",
       "1400          SAMSUNG Galaxy A13 (White, 64 GB)\n",
       "1514          OPPO Reno10 5G (Ice Blue, 256 GB)\n",
       "1609          OPPO Reno10 5G (Ice Blue, 256 GB)\n",
       "1705          OPPO Reno10 5G (Ice Blue, 256 GB)\n",
       "1794                       SAMSUNG Guru Music 2\n",
       "2250                          SAMSUNG Metro 313\n",
       "Name: name, dtype: object"
      ]
     },
     "execution_count": 40,
     "metadata": {},
     "output_type": "execute_result"
    }
   ],
   "source": [
    "data.loc[data.RAM.isnull()].name"
   ]
  },
  {
   "cell_type": "code",
   "execution_count": 41,
   "id": "8f2d0b4f",
   "metadata": {
    "papermill": {
     "duration": 0.057379,
     "end_time": "2023-08-14T20:13:22.555679",
     "exception": false,
     "start_time": "2023-08-14T20:13:22.498300",
     "status": "completed"
    },
    "tags": []
   },
   "outputs": [],
   "source": [
    "other_phones_ram_mapping = {\n",
    "    'OPPO Reno10 5G': 8,\n",
    "    'SAMSUNG Guru Music 2': 0.008,\n",
    "    'SAMSUNG GT-E1215ZWAINS': 0,\n",
    "    'Infinix Smart 7 HD': 2,\n",
    "    'SAMSUNG Galaxy A2 Core': 1,\n",
    "    'SAMSUNG Guru FM Plus': 0.004,\n",
    "    'SAMSUNG Galaxy A13': 4,\n",
    "    'SAMSUNG Metro 313': 0.016    \n",
    "}\n",
    "\n",
    "for model_name, ram_value in other_phones_ram_mapping.items():\n",
    "    data.loc[data.name.str.contains(model_name, case = True), 'RAM'] = ram_value"
   ]
  },
  {
   "cell_type": "code",
   "execution_count": 42,
   "id": "dac1d325",
   "metadata": {
    "papermill": {
     "duration": 0.03421,
     "end_time": "2023-08-14T20:13:22.609329",
     "exception": false,
     "start_time": "2023-08-14T20:13:22.575119",
     "status": "completed"
    },
    "tags": []
   },
   "outputs": [
    {
     "data": {
      "text/plain": [
       "array(['Xiaomi 11T Pro 5G Hyperphone (Celestial Magic, 256 GB)',\n",
       "       'REDMI 11 Prime 5G (Meadow Green, 128 GB)', 'a 10e',\n",
       "       'Tecno Spark 8 Pro (Turquoise Cyan, 64 GB)',\n",
       "       'OnePlus NORD CE2 LITE 5G (Blue, Black, 128 GB)',\n",
       "       'SAMSUNG Guru Music 2', 'Tecno Spark Go 2022 (Iris Purple, 32 GB)',\n",
       "       'Xiaomi 11T Pro 5G Hyperphone (Meteorite Black, 256 GB)',\n",
       "       'vivo Z1x (Fusion Blue, 128 GB)', 'SAMSUNG Guru FM Plus',\n",
       "       'Tecno Spark 10 pro (Meta Blue, 8 GB)',\n",
       "       'OnePlus 10R 5G (Sierra Black, 256 GB)',\n",
       "       'OPPO F23 5G | 64MP Rear Triple AI Camera | 6.72\" FHD+ 120Hz Display (Cool Black, 256 GB)',\n",
       "       'OnePlus 10R 5G (Prime Blue, 128 GB)',\n",
       "       'Tecno Spark 10 5G (Meta Blue, 128 GB)', 'SAMSUNG Metro 313',\n",
       "       'REDMI 12C (Royal Blue, 6 GB)',\n",
       "       'REDMI 11 Prime 5G (Thunder Black, 64 GB)',\n",
       "       'APPLE IPhone 4 (White, 8 GB)', 'Peace Mi2',\n",
       "       'OPPO F23 5G | 64MP Rear Triple AI Camera | 6.72\" FHD+ 120Hz Display (Bold Gold, 256 GB)',\n",
       "       'Tecno Spark Go 2023 (UYUNI BLUE, 32+3 GB)',\n",
       "       'SAMSUNG GALAXY M51 (Celestial Black, 128 GB)',\n",
       "       'REDMI 12C (Lavender Purple, 6 GB)',\n",
       "       'REDMI 11 Prime 5G (Chrome Silver, 128 GB)',\n",
       "       'REDMI 11 Prime (FlashyBlack, 128 GB)',\n",
       "       'REDMI 12C (Matte Black, 64 GB)',\n",
       "       'MOTOROLA Edge 30 Pro (Stardust White, 128 GB)',\n",
       "       'APPLE IPhone 4 (Black, 8 GB)',\n",
       "       'Tecno Spark 8 Pro (Interstellar Black, 64 GB)',\n",
       "       'OnePlus 10R 5G (Prime Blue, 128 GB)',\n",
       "       'SAMSUNG GALAXY M51 (ELECTRIC BLUE, 128 GB)',\n",
       "       'Tecno Spark 10C (Blue, 8 GB)', 'SAMSUNG Guru FM Plus SM-B110E/D',\n",
       "       'SAMSUNG Guru FM Plus SM-B110E/D',\n",
       "       'Tecno Pop 7 Pro (uyuni blue, 64 GB)',\n",
       "       'Xiaomi 11T Pro 5G Hyperphone (Meteorite Black, 128 GB)',\n",
       "       'OnePlus NORD CE2 LITE 5G (Blue, Black, 128 GB)',\n",
       "       'Tecno Spark 10 5G (Meta Black, 128 GB)',\n",
       "       'REDMI 11 Prime 5G (Thunder Black, 128 GB)',\n",
       "       'REDMI 11 Prime 5G (Chrome Silver, 64 GB)',\n",
       "       'Tecno Spark 10C (Black, 8 GB)',\n",
       "       'OnePlus 11 5G (Marble Odyssey, 256 GB)',\n",
       "       'Tecno Camon 19 Neo (Green, 6 GB)',\n",
       "       'REDMI 12C (Matte Black, 6 GB)',\n",
       "       'OPPO F21s Pro 5G (Dawnlight Gold, 128 GB)', 'SAMSUNG Metro 313',\n",
       "       'Tecno POVA 4 (Cryolite Blue,8GB 128GB (?Cryolite Blue, 128 GB)',\n",
       "       'REDMI 12c (Mint Green, 6 GB)',\n",
       "       'realme NARZO 50A PRIME (FLASH BLUE, 64 GB)',\n",
       "       'OnePlus 10R 5G (Prime Blue, 128 GB)', 'Peace Mi4',\n",
       "       'Tecno Camon 19 Pro (Mondrian, 128 GB)',\n",
       "       'REDMI 11 Prime 5G (Meadow Green, 128 GB)',\n",
       "       'OnePlus 10R 5G (Sierra Black, 256 GB)',\n",
       "       'REDMI 12C (Royal Blue, 64 GB)',\n",
       "       'Tecno Spark 10 5G (Meta White, 128 GB)', 'SAMSUNG Guru FM Plus',\n",
       "       'SAMSUNG M21 2021 Edition (Charcoal Black, 64 GB)',\n",
       "       'Xiaomi 11T Pro 5G Hyperphone (Moonlight White, 128 GB)', 'A10E',\n",
       "       'SAMSUNG M21 2021 Edition (Charcoal Black, 128 GB)',\n",
       "       'Tecno Spark 8C (Diamond Grey, 64 GB)', 'SAMSUNG Metro 313',\n",
       "       'Tecno Spark 10C (Meta Green, 8 GB)'], dtype=object)"
      ]
     },
     "execution_count": 42,
     "metadata": {},
     "output_type": "execute_result"
    }
   ],
   "source": [
    "data.loc[data.System.isnull()].name.values"
   ]
  },
  {
   "cell_type": "code",
   "execution_count": 43,
   "id": "a50f94a8",
   "metadata": {
    "papermill": {
     "duration": 0.031453,
     "end_time": "2023-08-14T20:13:22.660800",
     "exception": false,
     "start_time": "2023-08-14T20:13:22.629347",
     "status": "completed"
    },
    "tags": []
   },
   "outputs": [],
   "source": [
    "data.System.fillna('Android', inplace = True)"
   ]
  },
  {
   "cell_type": "code",
   "execution_count": 44,
   "id": "5b232645",
   "metadata": {
    "papermill": {
     "duration": 0.036583,
     "end_time": "2023-08-14T20:13:22.716507",
     "exception": false,
     "start_time": "2023-08-14T20:13:22.679924",
     "status": "completed"
    },
    "tags": []
   },
   "outputs": [
    {
     "data": {
      "text/plain": [
       "array(['Xiaomi 11T Pro 5G Hyperphone (Celestial Magic, 256 GB)',\n",
       "       'REDMI 11 Prime 5G (Meadow Green, 128 GB)', 'a 10e',\n",
       "       'Tecno Spark 8 Pro (Turquoise Cyan, 64 GB)',\n",
       "       'OnePlus NORD CE2 LITE 5G (Blue, Black, 128 GB)',\n",
       "       'SAMSUNG Guru Music 2', 'Tecno Spark Go 2022 (Iris Purple, 32 GB)',\n",
       "       'Xiaomi 11T Pro 5G Hyperphone (Meteorite Black, 256 GB)',\n",
       "       'vivo Z1x (Fusion Blue, 128 GB)', 'SAMSUNG Guru FM Plus',\n",
       "       'Tecno Spark 10 pro (Meta Blue, 8 GB)',\n",
       "       'OnePlus 10R 5G (Sierra Black, 256 GB)',\n",
       "       'OPPO F23 5G | 64MP Rear Triple AI Camera | 6.72\" FHD+ 120Hz Display (Cool Black, 256 GB)',\n",
       "       'OnePlus 10R 5G (Prime Blue, 128 GB)',\n",
       "       'Tecno Spark 10 5G (Meta Blue, 128 GB)', 'SAMSUNG Metro 313',\n",
       "       'REDMI 12C (Royal Blue, 6 GB)',\n",
       "       'REDMI 11 Prime 5G (Thunder Black, 64 GB)',\n",
       "       'APPLE IPhone 4 (White, 8 GB)', 'Peace Mi2',\n",
       "       'OPPO F23 5G | 64MP Rear Triple AI Camera | 6.72\" FHD+ 120Hz Display (Bold Gold, 256 GB)',\n",
       "       'Tecno Spark Go 2023 (UYUNI BLUE, 32+3 GB)',\n",
       "       'SAMSUNG GALAXY M51 (Celestial Black, 128 GB)',\n",
       "       'REDMI 12C (Lavender Purple, 6 GB)',\n",
       "       'REDMI 11 Prime 5G (Chrome Silver, 128 GB)',\n",
       "       'REDMI 11 Prime (FlashyBlack, 128 GB)',\n",
       "       'REDMI 12C (Matte Black, 64 GB)',\n",
       "       'MOTOROLA Edge 30 Pro (Stardust White, 128 GB)',\n",
       "       'APPLE IPhone 4 (Black, 8 GB)',\n",
       "       'Tecno Spark 8 Pro (Interstellar Black, 64 GB)',\n",
       "       'OnePlus 10R 5G (Prime Blue, 128 GB)',\n",
       "       'SAMSUNG GALAXY M51 (ELECTRIC BLUE, 128 GB)',\n",
       "       'Tecno Spark 10C (Blue, 8 GB)', 'SAMSUNG Guru FM Plus SM-B110E/D',\n",
       "       'SAMSUNG Guru FM Plus SM-B110E/D',\n",
       "       'Tecno Pop 7 Pro (uyuni blue, 64 GB)',\n",
       "       'Xiaomi 11T Pro 5G Hyperphone (Meteorite Black, 128 GB)',\n",
       "       'OnePlus NORD CE2 LITE 5G (Blue, Black, 128 GB)',\n",
       "       'Tecno Spark 10 5G (Meta Black, 128 GB)',\n",
       "       'REDMI 11 Prime 5G (Thunder Black, 128 GB)',\n",
       "       'REDMI 11 Prime 5G (Chrome Silver, 64 GB)',\n",
       "       'Tecno Spark 10C (Black, 8 GB)',\n",
       "       'OnePlus 11 5G (Marble Odyssey, 256 GB)',\n",
       "       'Tecno Camon 19 Neo (Green, 6 GB)',\n",
       "       'REDMI 12C (Matte Black, 6 GB)',\n",
       "       'OPPO F21s Pro 5G (Dawnlight Gold, 128 GB)', 'SAMSUNG Metro 313',\n",
       "       'Tecno POVA 4 (Cryolite Blue,8GB 128GB (?Cryolite Blue, 128 GB)',\n",
       "       'REDMI 12c (Mint Green, 6 GB)',\n",
       "       'realme NARZO 50A PRIME (FLASH BLUE, 64 GB)',\n",
       "       'OnePlus 10R 5G (Prime Blue, 128 GB)', 'Peace Mi4',\n",
       "       'Tecno Camon 19 Pro (Mondrian, 128 GB)',\n",
       "       'REDMI 11 Prime 5G (Meadow Green, 128 GB)',\n",
       "       'OnePlus 10R 5G (Sierra Black, 256 GB)',\n",
       "       'REDMI 12C (Royal Blue, 64 GB)',\n",
       "       'Tecno Spark 10 5G (Meta White, 128 GB)', 'SAMSUNG Guru FM Plus',\n",
       "       'SAMSUNG M21 2021 Edition (Charcoal Black, 64 GB)',\n",
       "       'Xiaomi 11T Pro 5G Hyperphone (Moonlight White, 128 GB)', 'A10E',\n",
       "       'SAMSUNG M21 2021 Edition (Charcoal Black, 128 GB)',\n",
       "       'Tecno Spark 8C (Diamond Grey, 64 GB)', 'SAMSUNG Metro 313',\n",
       "       'Tecno Spark 10C (Meta Green, 8 GB)'], dtype=object)"
      ]
     },
     "execution_count": 44,
     "metadata": {},
     "output_type": "execute_result"
    }
   ],
   "source": [
    "data.loc[data.Processor.isnull()].name.values"
   ]
  },
  {
   "cell_type": "code",
   "execution_count": 45,
   "id": "238c2726",
   "metadata": {
    "papermill": {
     "duration": 0.081274,
     "end_time": "2023-08-14T20:13:22.817774",
     "exception": false,
     "start_time": "2023-08-14T20:13:22.736500",
     "status": "completed"
    },
    "tags": []
   },
   "outputs": [],
   "source": [
    "phone_processor_mapping = {\n",
    "    'Xiaomi': 'Qualcomm',\n",
    "    'REDMI': 'MediaTek',\n",
    "    'Tecno': 'MediaTek',\n",
    "    'OPPO': 'Qualcomm',\n",
    "    'OnePlus': 'MediaTek',\n",
    "    'SAMSUNG': 'Other',\n",
    "    'IPhone 4': 'Other',\n",
    "    'MOTOROLA': 'Qualcomm',\n",
    "    'vivo Z1x': 'Qualcomm',\n",
    "    'realme': 'MediaTek',\n",
    "    'a 10e': 'Other',\n",
    "    'A10E': 'Other',\n",
    "    'Peace': 'Other'\n",
    "}\n",
    "\n",
    "for model_name, processor_name in phone_processor_mapping.items():\n",
    "    condition = (data.name.str.contains(model_name, case=True)) & (pd.isna(data['Processor']))\n",
    "    data.loc[condition, 'Processor'] = processor_name"
   ]
  },
  {
   "cell_type": "code",
   "execution_count": 46,
   "id": "53f4c131",
   "metadata": {
    "papermill": {
     "duration": 0.044709,
     "end_time": "2023-08-14T20:13:22.881764",
     "exception": false,
     "start_time": "2023-08-14T20:13:22.837055",
     "status": "completed"
    },
    "tags": []
   },
   "outputs": [],
   "source": [
    "missing_storage_mapping = {\n",
    "    'SAMSUNG Guru Music 2': 16,\n",
    "    'SAMSUNG GT-E1215ZWAINS': 0,\n",
    "    'SAMSUNG Galaxy A2 Core': 16,\n",
    "    'SAMSUNG Guru FM Plus': 0,\n",
    "    'SAMSUNG Galaxy A13': 64, \n",
    "}\n",
    "\n",
    "for model_name, storage_value in missing_storage_mapping.items():\n",
    "    data.loc[data.name.str.contains(model_name, case = True), 'Storage'] = storage_value"
   ]
  },
  {
   "cell_type": "markdown",
   "id": "bcbca695",
   "metadata": {
    "papermill": {
     "duration": 0.017859,
     "end_time": "2023-08-14T20:13:22.918238",
     "exception": false,
     "start_time": "2023-08-14T20:13:22.900379",
     "status": "completed"
    },
    "tags": []
   },
   "source": [
    "# Recommendation Function"
   ]
  },
  {
   "cell_type": "code",
   "execution_count": 47,
   "id": "eb16f211",
   "metadata": {
    "papermill": {
     "duration": 0.033296,
     "end_time": "2023-08-14T20:13:22.969597",
     "exception": false,
     "start_time": "2023-08-14T20:13:22.936301",
     "status": "completed"
    },
    "tags": []
   },
   "outputs": [],
   "source": [
    "def recommend(brand = None, system = None, min_price = None, max_price = None, top_n = 10):\n",
    "    filtered_data = data[\n",
    "        (data['Brand'] == brand) &\n",
    "        (data['System'] == system) &\n",
    "        (data['price'] >= min_price) &\n",
    "        (data['price'] <= max_price)\n",
    "    ]\n",
    "    \n",
    "    if filtered_data.empty:\n",
    "        filtered_data = data[\n",
    "            (data['Brand'] == brand) &\n",
    "            (data['price'] >= min_price) &\n",
    "            (data['price'] <= max_price)\n",
    "        ]\n",
    "    \n",
    "    if filtered_data.empty:\n",
    "        filtered_data = data[\n",
    "            (data['price'] >= min_price) &\n",
    "            (data['price'] <= max_price)\n",
    "        ]\n",
    "        \n",
    "    if filtered_data.empty:\n",
    "        filtered_data = data[\n",
    "            (data['Brand'] == brand)\n",
    "        ]\n",
    "    \n",
    "    if filtered_data.empty:\n",
    "        filtered_data = data[\n",
    "            (data['System'] == system)\n",
    "        ]\n",
    "    \n",
    "    if filtered_data.empty:\n",
    "        print('No preferences listed!')\n",
    "        return\n",
    "    \n",
    "    recommendations = filtered_data.sort_values(by = 'ratings', ascending = False).head(top_n)\n",
    "    return list(recommendations.name.values)"
   ]
  },
  {
   "cell_type": "markdown",
   "id": "46417ea1",
   "metadata": {
    "papermill": {
     "duration": 0.017934,
     "end_time": "2023-08-14T20:13:23.005862",
     "exception": false,
     "start_time": "2023-08-14T20:13:22.987928",
     "status": "completed"
    },
    "tags": []
   },
   "source": [
    "# Test function"
   ]
  },
  {
   "cell_type": "code",
   "execution_count": 48,
   "id": "11700033",
   "metadata": {
    "papermill": {
     "duration": 0.036033,
     "end_time": "2023-08-14T20:13:23.060753",
     "exception": false,
     "start_time": "2023-08-14T20:13:23.024720",
     "status": "completed"
    },
    "tags": []
   },
   "outputs": [
    {
     "data": {
      "text/plain": [
       "['Apple iPhone XR (Blue, 64 GB) (Includes EarPods, Power Adapter)',\n",
       " 'Apple iPhone XR ((PRODUCT)RED, 256 GB) (Includes EarPods, Power Adapter)',\n",
       " 'Apple iPhone SE (Black, 64 GB) (Includes EarPods, Power Adapter)',\n",
       " 'Apple iPhone SE (White, 128 GB) (Includes EarPods, Power Adapter)',\n",
       " 'Apple iPhone SE (Red, 256 GB) (Includes EarPods, Power Adapter)',\n",
       " 'Apple iPhone SE (Black, 128 GB) (Includes EarPods, Power Adapter)',\n",
       " 'Apple iPhone XR (Black, 256 GB) (Includes EarPods, Power Adapter)',\n",
       " 'Apple iPhone XR (Coral, 64 GB) (Includes EarPods, Power Adapter)',\n",
       " 'Apple iPhone XR (White, 256 GB) (Includes EarPods, Power Adapter)',\n",
       " 'Apple iPhone XR (White, 64 GB) (Includes EarPods, Power Adapter)']"
      ]
     },
     "execution_count": 48,
     "metadata": {},
     "output_type": "execute_result"
    }
   ],
   "source": [
    "recommend('Apple')"
   ]
  },
  {
   "cell_type": "code",
   "execution_count": null,
   "id": "57f3680f-1a4c-466f-baf1-d2007fae281b",
   "metadata": {},
   "outputs": [],
   "source": []
  }
 ],
 "metadata": {
  "kernelspec": {
   "display_name": "Python 3 (ipykernel)",
   "language": "python",
   "name": "python3"
  },
  "language_info": {
   "codemirror_mode": {
    "name": "ipython",
    "version": 3
   },
   "file_extension": ".py",
   "mimetype": "text/x-python",
   "name": "python",
   "nbconvert_exporter": "python",
   "pygments_lexer": "ipython3",
   "version": "3.12.4"
  },
  "papermill": {
   "default_parameters": {},
   "duration": 17.801023,
   "end_time": "2023-08-14T20:13:24.139375",
   "environment_variables": {},
   "exception": null,
   "input_path": "__notebook__.ipynb",
   "output_path": "__notebook__.ipynb",
   "parameters": {},
   "start_time": "2023-08-14T20:13:06.338352",
   "version": "2.4.0"
  }
 },
 "nbformat": 4,
 "nbformat_minor": 5
}
